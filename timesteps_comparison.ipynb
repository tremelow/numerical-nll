{
 "cells": [
  {
   "cell_type": "code",
   "execution_count": null,
   "id": "a531cca6",
   "metadata": {},
   "outputs": [],
   "source": [
    "%load_ext autoreload\n",
    "%autoreload 2"
   ]
  },
  {
   "cell_type": "code",
   "execution_count": null,
   "id": "13afd424",
   "metadata": {},
   "outputs": [],
   "source": [
    "import matplotlib.pyplot as plt\n",
    "\n",
    "DEFAULT_SEED = 42\n",
    "\n",
    "from gaussian import MultivariateNormal, VarianceExploding, VariancePreserving, SubVariancePreserving\n",
    "from numerical import EulerSolver\n",
    "from utils import cube_vertices, solve_numerical_scheme, solve_flow"
   ]
  },
  {
   "cell_type": "code",
   "execution_count": null,
   "id": "e7ed300b",
   "metadata": {},
   "outputs": [],
   "source": [
    "norms = cube_vertices(dim=2)\n",
    "\n",
    "mix_dict = {'VE': (VarianceExploding(norms), 2.0), 'VP': (VariancePreserving(norms), 1.0), 'sub-VP': (SubVariancePreserving(norms), 1.0)}\n",
    "timesteps_list = [10, 20, 40, 80, 160, 320]"
   ]
  },
  {
   "cell_type": "markdown",
   "id": "84cb6964",
   "metadata": {},
   "source": [
    "### solve_ivp per formulation (VE, VP, sub-VP)"
   ]
  },
  {
   "cell_type": "code",
   "execution_count": null,
   "id": "a2626e60",
   "metadata": {},
   "outputs": [],
   "source": [
    "solve_ivp_dict = {}\n",
    "for k, (mix, tf) in mix_dict.items():\n",
    "    prior = MultivariateNormal(mix.dim, cov=mix.added_noise_sq(tf))\n",
    "    x, _ = solve_flow(mix, prior, tf=tf)\n",
    "    solve_ivp_dict[k] = x"
   ]
  },
  {
   "cell_type": "markdown",
   "id": "7a360b4a",
   "metadata": {},
   "source": [
    "### Explicit Euler per formulation (VE, VP, sub-VP) and per timesteps (10, 20, 40, 80, 160, 320)"
   ]
  },
  {
   "cell_type": "code",
   "execution_count": null,
   "id": "b0997928",
   "metadata": {},
   "outputs": [],
   "source": [
    "explicit_euler_dict = {}\n",
    "for k, (mix, tf) in mix_dict.items():\n",
    "    print(k)\n",
    "    cur_mix_dict = {}\n",
    "    for n_ts in timesteps_list:\n",
    "        print(n_ts)\n",
    "        _, x, _ = solve_numerical_scheme(solver=EulerSolver, mix=mix, n_samples=5000, t_min=1e-6, tf=tf, n_timesteps=n_ts, linear_ts=False)\n",
    "        _, x_linear, _ = solve_numerical_scheme(solver=EulerSolver, mix=mix, n_samples=5000, t_min=1e-6, tf=tf, n_timesteps=n_ts, linear_ts=True)\n",
    "        cur_mix_dict[n_ts] = (x[:,-1,:], x_linear[:,-1,:])\n",
    "    explicit_euler_dict[k] = cur_mix_dict\n",
    "\n",
    "    print('-'*5)"
   ]
  },
  {
   "cell_type": "markdown",
   "id": "063e3f28",
   "metadata": {},
   "source": [
    "### Plots"
   ]
  },
  {
   "cell_type": "code",
   "execution_count": null,
   "id": "876a344d",
   "metadata": {},
   "outputs": [],
   "source": [
    "def make_plots(linear_ts):\n",
    "    fig, axes = plt.subplots(3, len(timesteps_list)+1, figsize=(15, 5), dpi=300)\n",
    "    fig.suptitle(f'linear_ts={linear_ts}')\n",
    "\n",
    "    for ax, col in zip(axes[0], ['solve_ivp', *timesteps_list]):\n",
    "        ax.set_title(col)\n",
    "\n",
    "    for ax, row in zip(axes[:,0], list(mix_dict.keys())):\n",
    "        ax.set_ylabel(row, rotation=90, size='large')\n",
    "\n",
    "    for i, k in enumerate(mix_dict.keys()):\n",
    "        axes[i, 0].scatter(*solve_ivp_dict[k].T, s=1)\n",
    "        for j, n_ts in enumerate(timesteps_list):\n",
    "            axes[i, j+1].scatter(*explicit_euler_dict[k][n_ts][linear_ts].T, s=1)\n",
    "\n",
    "    return fig, axes"
   ]
  },
  {
   "cell_type": "code",
   "execution_count": null,
   "id": "77c17b70",
   "metadata": {},
   "outputs": [],
   "source": [
    "make_plots(linear_ts=False);"
   ]
  },
  {
   "cell_type": "code",
   "execution_count": null,
   "id": "e1a24084",
   "metadata": {},
   "outputs": [],
   "source": [
    "make_plots(linear_ts=True);"
   ]
  },
  {
   "cell_type": "markdown",
   "id": "954e4dc8",
   "metadata": {},
   "source": [
    "### MSE solve_ivp vs explicit Euler per formulation (VE, VP, sub-VP) per timesteps (10, 20, 40, 80, 160, 320) and per timesteps modality (EDM, linear)"
   ]
  },
  {
   "cell_type": "code",
   "execution_count": null,
   "id": "91c470e9",
   "metadata": {},
   "outputs": [],
   "source": [
    "for k in mix_dict.keys():\n",
    "    print(k)\n",
    "    for ts in timesteps_list:\n",
    "        mse_edm = ((solve_ivp_dict[k] - explicit_euler_dict[k][ts][0])**2).mean()\n",
    "        mse_linear = ((solve_ivp_dict[k] - explicit_euler_dict[k][ts][1])**2).mean()\n",
    "        print(f\"timesteps: {ts}, MSE EDM: {mse_edm}, MSE linear: {mse_linear}\")\n",
    "    print('-'*5)"
   ]
  },
  {
   "cell_type": "code",
   "execution_count": null,
   "id": "448f8927",
   "metadata": {},
   "outputs": [],
   "source": []
  }
 ],
 "metadata": {
  "kernelspec": {
   "display_name": "Python 3",
   "language": "python",
   "name": "python3"
  },
  "language_info": {
   "codemirror_mode": {
    "name": "ipython",
    "version": 3
   },
   "file_extension": ".py",
   "mimetype": "text/x-python",
   "name": "python",
   "nbconvert_exporter": "python",
   "pygments_lexer": "ipython3",
   "version": "3.10.12"
  }
 },
 "nbformat": 4,
 "nbformat_minor": 5
}
