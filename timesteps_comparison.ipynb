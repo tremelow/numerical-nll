{
 "cells": [
  {
   "cell_type": "code",
   "execution_count": null,
   "id": "a531cca6",
   "metadata": {},
   "outputs": [],
   "source": [
    "%load_ext autoreload\n",
    "%autoreload 2"
   ]
  },
  {
   "cell_type": "code",
   "execution_count": null,
   "id": "13afd424",
   "metadata": {},
   "outputs": [],
   "source": [
    "import matplotlib.pyplot as plt\n",
    "\n",
    "DEFAULT_SEED = 42\n",
    "\n",
    "from gaussian import MultivariateNormal, VarianceExploding\n",
    "from numerical import BroydenSolver\n",
    "from utils import cube_vertices, solve_numerical_scheme, solve_flow"
   ]
  },
  {
   "cell_type": "code",
   "execution_count": null,
   "id": "e7ed300b",
   "metadata": {},
   "outputs": [],
   "source": [
    "norms = cube_vertices(dim=2)\n",
    "mix = VarianceExploding(norms)\n",
    "tf = 2.0\n",
    "\n",
    "timesteps_list = [10, 20, 40, 80, 160, 320]"
   ]
  },
  {
   "cell_type": "markdown",
   "id": "84cb6964",
   "metadata": {},
   "source": [
    "### solve_ivp (VE)"
   ]
  },
  {
   "cell_type": "code",
   "execution_count": null,
   "id": "a2626e60",
   "metadata": {},
   "outputs": [],
   "source": [
    "prior = MultivariateNormal(mix.dim, cov=mix.added_noise_sq(tf))\n",
    "x_solve_ivp, _, _ = solve_flow(mix, prior, tf=tf)"
   ]
  },
  {
   "cell_type": "markdown",
   "id": "7a360b4a",
   "metadata": {},
   "source": [
    "### Implicit Euler (VE) per timesteps (10, 20, 40, 80, 160, 320)"
   ]
  },
  {
   "cell_type": "code",
   "execution_count": null,
   "id": "b0997928",
   "metadata": {},
   "outputs": [],
   "source": [
    "ve_dict = {}\n",
    "for n_ts in timesteps_list:\n",
    "    print(f\"{n_ts} steps\")\n",
    "    _, x, _ = solve_numerical_scheme(solver=BroydenSolver, mix=mix, n_samples=5000, t_min=1e-6, tf=tf, n_timesteps=n_ts, linear_ts=False)\n",
    "    _, x_linear, _ = solve_numerical_scheme(solver=BroydenSolver, mix=mix, n_samples=5000, t_min=1e-6, tf=tf, n_timesteps=n_ts, linear_ts=True)\n",
    "    ve_dict[n_ts] = (x[:,-1,:], x_linear[:,-1,:])"
   ]
  },
  {
   "cell_type": "markdown",
   "id": "954e4dc8",
   "metadata": {},
   "source": [
    "### MSE solve_ivp vs implicit Euler (VE) per timesteps (10, 20, 40, 80, 160, 320) and per timesteps modality (EDM, linear)"
   ]
  },
  {
   "cell_type": "code",
   "execution_count": null,
   "id": "91c470e9",
   "metadata": {},
   "outputs": [],
   "source": [
    "for ts in timesteps_list:\n",
    "    mse_edm = ((x_solve_ivp - ve_dict[ts][0])**2).mean()\n",
    "    mse_linear = ((x_solve_ivp - ve_dict[ts][1])**2).mean()\n",
    "    print(f\"Steps: {ts}, MSE EDM: {mse_edm}, MSE linear: {mse_linear}\")"
   ]
  },
  {
   "cell_type": "markdown",
   "id": "063e3f28",
   "metadata": {},
   "source": [
    "### Plots"
   ]
  },
  {
   "cell_type": "code",
   "execution_count": null,
   "id": "876a344d",
   "metadata": {},
   "outputs": [],
   "source": [
    "def make_plots(x_solve_ivp, ve_dict):\n",
    "    fig, axes = plt.subplots(2, len(timesteps_list)+1, figsize=(15, 4), dpi=300)\n",
    "\n",
    "    for ax, col in zip(axes[0], ['solve_ivp', *timesteps_list]):\n",
    "        ax.set_title(col)\n",
    "\n",
    "    scheduling = ['Linear', 'EDM']\n",
    "    for ax, row in zip(axes[:,0], scheduling):\n",
    "        ax.set_ylabel(row, rotation=90, size='large')\n",
    "\n",
    "    for i in range(len(scheduling)):\n",
    "        axes[i, 0].scatter(*x_solve_ivp.T, s=1)\n",
    "        for j, n_ts in enumerate(timesteps_list):\n",
    "            axes[i, j+1].scatter(*ve_dict[n_ts][i].T, s=1)\n",
    "\n",
    "    return fig, axes"
   ]
  },
  {
   "cell_type": "code",
   "execution_count": null,
   "id": "77c17b70",
   "metadata": {},
   "outputs": [],
   "source": [
    "make_plots(x_solve_ivp, ve_dict);"
   ]
  },
  {
   "cell_type": "code",
   "execution_count": null,
   "id": "448f8927",
   "metadata": {},
   "outputs": [],
   "source": []
  }
 ],
 "metadata": {
  "kernelspec": {
   "display_name": "Python 3",
   "language": "python",
   "name": "python3"
  },
  "language_info": {
   "codemirror_mode": {
    "name": "ipython",
    "version": 3
   },
   "file_extension": ".py",
   "mimetype": "text/x-python",
   "name": "python",
   "nbconvert_exporter": "python",
   "pygments_lexer": "ipython3",
   "version": "3.10.12"
  }
 },
 "nbformat": 4,
 "nbformat_minor": 5
}
