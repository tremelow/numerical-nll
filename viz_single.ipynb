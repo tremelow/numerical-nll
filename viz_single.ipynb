{
 "cells": [
  {
   "cell_type": "markdown",
   "metadata": {},
   "source": [
    "## Gaussian distribution\n",
    "\n",
    "Defined from a mean $\\mu$ and a covariance matrix $C$,\n",
    "$$ p(x) = \\frac{1}{\\sqrt{(2\\pi)^{d} \\det(C)}} \\exp\\left( -\\frac{1}{2} (x - \\mu)^\\mathsf{T} C^{-1} (x - \\mu) \\right) . $$\n",
    "Because the covariance matrix is symmetric positive definite, this can also be written using the square-root of the covariance, $\\Sigma := C^{1/2}$ or $C = \\Sigma^\\mathsf{T} \\Sigma$, with\n",
    "$$ p(x) = \\frac{1}{(2\\pi)^{d/2} \\det(\\Sigma)} \\exp\\left( -\\frac{1}{2} \\bigl\\| \\Sigma^{-1}(x - \\mu) \\bigr\\|^2 \\right) $$\n",
    "with the Euclidean norm $\\|u\\|^2 = u^\\mathsf{T} u$.\n",
    "\n",
    "The score function is\n",
    "$$ s(x) = \\nabla_x \\log p(x) = -C^{-1} (x - \\mu) $$"
   ]
  },
  {
   "cell_type": "code",
   "execution_count": null,
   "metadata": {},
   "outputs": [],
   "source": [
    "import numpy as np\n",
    "import matplotlib.pyplot as plt\n",
    "\n",
    "from gaussian import MultivariateNormal"
   ]
  },
  {
   "cell_type": "code",
   "execution_count": null,
   "metadata": {},
   "outputs": [],
   "source": [
    "norm = MultivariateNormal(1, mean=0.5)\n",
    "\n",
    "x_sample = norm.sample(5000)\n",
    "plt.hist(x_sample, bins='auto', density='true')\n",
    "\n",
    "x = np.linspace(x_sample.min(), x_sample.max(), 200)[:, None]\n",
    "y = norm.density(x)\n",
    "\n",
    "plt.plot(x, y)"
   ]
  },
  {
   "cell_type": "code",
   "execution_count": null,
   "metadata": {},
   "outputs": [],
   "source": [
    "norm = MultivariateNormal(2, [1.0, -1.0], [2.0, 1.0])\n",
    "\n",
    "x_sample, y_sample = norm.sample(2000).T\n",
    "\n",
    "x_cont = np.linspace(x_sample.min(), x_sample.max(), 200)\n",
    "y_cont = np.linspace(y_sample.min(), y_sample.max(), 200)\n",
    "X, Y = np.meshgrid(x_cont, y_cont)\n",
    "Z = norm.density(np.stack((X, Y), -1))\n",
    "\n",
    "x_coarse = x_cont[5::10]\n",
    "y_coarse = y_cont[5::10]\n",
    "X_coarse, Y_coarse = np.meshgrid(x_coarse, y_coarse)\n",
    "XY_coarse = np.stack((X_coarse, Y_coarse), -1)\n",
    "\n",
    "UV, div_UV = norm.score_with_div(XY_coarse)\n",
    "\n",
    "fig, ax = plt.subplots()\n",
    "\n",
    "ax.contour(X, Y, Z, levels=10)\n",
    "\n",
    "ax.scatter(x_sample, y_sample, s=1)\n",
    "\n",
    "U, V = UV[:, :, 0], UV[:, :, 1]\n",
    "ax.quiver(X_coarse, Y_coarse, U, V, div_UV, zorder=2)\n",
    "ax.set_aspect(\"equal\")"
   ]
  },
  {
   "cell_type": "code",
   "execution_count": null,
   "metadata": {},
   "outputs": [],
   "source": [
    "std = np.array([[1.0, 2.0], [0.0, 1.0]])  # cov(x, y) = 2 > 0\n",
    "norm = MultivariateNormal(2, [4.0, 20.0], std @ std.T)\n",
    "\n",
    "x_sample, y_sample = norm.sample(2000).T\n",
    "\n",
    "# x_cont = np.linspace(8.0, 12.0, 200)\n",
    "# y_cont = np.linspace(-9.0, -6.0, 200)\n",
    "x_cont = np.linspace(x_sample.min(), x_sample.max(), 200)\n",
    "y_cont = np.linspace(y_sample.min(), y_sample.max(), 200)\n",
    "X, Y = np.meshgrid(x_cont, y_cont)\n",
    "Z = norm.density(np.stack((X, Y), -1))\n",
    "\n",
    "x_coarse = x_cont[5::10]\n",
    "y_coarse = y_cont[5::10]\n",
    "X_coarse, Y_coarse = np.meshgrid(x_coarse, y_coarse)\n",
    "XY_coarse = np.stack((X_coarse, Y_coarse), -1)\n",
    "\n",
    "score, div_score = norm.score_with_div(XY_coarse)\n",
    "\n",
    "fig, ax = plt.subplots()\n",
    "\n",
    "ax.contour(X, Y, Z, levels=10)\n",
    "\n",
    "ax.scatter(x_sample, y_sample, s=1)\n",
    "\n",
    "norm_UV = np.sqrt(np.sum(np.square(score), -1, keepdims=True))\n",
    "# score /= norm_UV\n",
    "U, V = score[:, :, 0], score[:, :, 1]\n",
    "ax.quiver(X_coarse, Y_coarse, U, V, div_score, zorder=2)\n",
    "ax.set_aspect(\"equal\")"
   ]
  },
  {
   "cell_type": "code",
   "execution_count": null,
   "metadata": {},
   "outputs": [],
   "source": [
    "div_score"
   ]
  }
 ],
 "metadata": {
  "kernelspec": {
   "display_name": ".venv",
   "language": "python",
   "name": "python3"
  },
  "language_info": {
   "codemirror_mode": {
    "name": "ipython",
    "version": 3
   },
   "file_extension": ".py",
   "mimetype": "text/x-python",
   "name": "python",
   "nbconvert_exporter": "python",
   "pygments_lexer": "ipython3",
   "version": "3.10.12"
  }
 },
 "nbformat": 4,
 "nbformat_minor": 2
}
