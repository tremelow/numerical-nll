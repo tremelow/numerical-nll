{
 "cells": [
  {
   "cell_type": "code",
   "execution_count": null,
   "id": "eed24fa0",
   "metadata": {},
   "outputs": [],
   "source": [
    "%load_ext autoreload\n",
    "%autoreload 2"
   ]
  },
  {
   "cell_type": "code",
   "execution_count": null,
   "id": "adcaf2b4",
   "metadata": {},
   "outputs": [],
   "source": [
    "DEFAULT_SEED = 42\n",
    "\n",
    "from gaussian import VarianceExploding\n",
    "from numerical import BroydenSolver\n",
    "from utils import cube_vertices"
   ]
  },
  {
   "cell_type": "markdown",
   "id": "bc4e12d1",
   "metadata": {},
   "source": [
    "### Mean Broyden iterations benchmark"
   ]
  },
  {
   "cell_type": "code",
   "execution_count": null,
   "id": "16ffcd29",
   "metadata": {},
   "outputs": [],
   "source": [
    "dims = [1, 2, 4, 8]\n",
    "tf = 2.0\n",
    "for dim in dims:\n",
    "    norms = cube_vertices(dim)\n",
    "    mix = VarianceExploding(norms)\n",
    "\n",
    "    steps_list = [10, 20, 40, 80]\n",
    "    for steps in steps_list:\n",
    "        print(\"dim:\", dim, \"steps:\", steps)\n",
    "        x_init = mix.sample(5000)\n",
    "        solver = BroydenSolver(mix, t_min=1e-6, tf=2.0, nt=steps, linear_ts=False, benchmark=True)\n",
    "        solver(x_init)\n",
    "    \n",
    "    print('-'*5)"
   ]
  },
  {
   "cell_type": "code",
   "execution_count": null,
   "id": "cea6fc30",
   "metadata": {},
   "outputs": [],
   "source": []
  }
 ],
 "metadata": {
  "kernelspec": {
   "display_name": "Python 3",
   "language": "python",
   "name": "python3"
  },
  "language_info": {
   "codemirror_mode": {
    "name": "ipython",
    "version": 3
   },
   "file_extension": ".py",
   "mimetype": "text/x-python",
   "name": "python",
   "nbconvert_exporter": "python",
   "pygments_lexer": "ipython3",
   "version": "3.10.12"
  }
 },
 "nbformat": 4,
 "nbformat_minor": 5
}
