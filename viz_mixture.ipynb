{
 "cells": [
  {
   "cell_type": "markdown",
   "metadata": {},
   "source": [
    "## Mixture of random variables\n",
    "\n",
    "Modeled using a \"hidden\" random variable $Z$ taking values in $\\{1, ..., r\\}$, with\n",
    "$$ Y = \\sum_{i = 1}^r 1_{Z = i} X_i . $$\n",
    "Denoting $P(Z = i) = \\omega_i$, we find the probability distribution\n",
    "$$ p_Y(x) = \\sum_{i = 1}^r P(Z = i) p_{Y \\mid Z = i}(x) = \\sum_{i = 1}^r \\omega_i p_{X_i}(x) . $$\n",
    "Thanks to the identity $p(x) s(x) = \\nabla p(x)$, we find the score function\n",
    "$$ s_Y(x) = \\frac{1}{p_Y(x)} \\sum_{i = 1}^r \\omega_i p_{X_i}(x) s_{X_i}(x) = \\sum_{i = 1}^r P(Z = i \\mid Y = x) s_{X_i}(x) . $$"
   ]
  },
  {
   "cell_type": "code",
   "execution_count": null,
   "metadata": {},
   "outputs": [],
   "source": [
    "import numpy as np\n",
    "import matplotlib.pyplot as plt\n",
    "\n",
    "from gaussian import MultivariateNormal, Mixture"
   ]
  },
  {
   "cell_type": "code",
   "execution_count": null,
   "metadata": {},
   "outputs": [],
   "source": [
    "mix = Mixture((MultivariateNormal(1, -3.0), MultivariateNormal(1, 3.0)))\n",
    "\n",
    "x_sample = mix.sample(10_000)\n",
    "plt.hist(x_sample, bins=\"auto\", density=True)\n",
    "x = np.linspace(x_sample.min(), x_sample.max(), 200)[:, None]\n",
    "plt.plot(x, mix.density(x))"
   ]
  },
  {
   "cell_type": "code",
   "execution_count": null,
   "metadata": {},
   "outputs": [],
   "source": [
    "mean1 = np.array([4.0, 8.0])\n",
    "mean2 = np.array([0.0, 0.0])\n",
    "\n",
    "cov1 = np.array([2.3, 1.5])\n",
    "cov2 = np.array([1.0, 3.0])\n",
    "\n",
    "norm1 = MultivariateNormal(2, mean1, cov1)\n",
    "norm2 = MultivariateNormal(2, mean2, cov2)\n",
    "mix = Mixture((norm1, norm2))\n",
    "\n",
    "x_sample, y_sample = mix.sample(5000).T\n",
    "\n",
    "x_cont = np.linspace(x_sample.min() + 2.0, x_sample.max() - 2.0, 200)\n",
    "y_cont = np.linspace(y_sample.min() + 2.0, y_sample.max() - 2.0, 200)\n",
    "# x_cont = np.linspace(0.0, 5.0, 200)\n",
    "# y_cont = np.linspace(0.0, 5.0, 200)\n",
    "X, Y = np.meshgrid(x_cont, y_cont)\n",
    "Z = mix.density(np.stack((X, Y), -1))\n",
    "\n",
    "x_coarse = x_cont[5::10]\n",
    "y_coarse = y_cont[5::10]\n",
    "X_coarse, Y_coarse = np.meshgrid(x_coarse, y_coarse)\n",
    "XY_coarse = np.stack((X_coarse, Y_coarse), -1)\n",
    "\n",
    "UV = mix.score(XY_coarse)\n",
    "\n",
    "fig, ax = plt.subplots()\n",
    "\n",
    "ax.contour(X, Y, Z, levels=20)\n",
    "\n",
    "ax.scatter(x_sample, y_sample, s=1)\n",
    "ax.set_xlim(x_cont.min(), x_cont.max())\n",
    "ax.set_ylim(y_cont.min(), y_cont.max())\n",
    "\n",
    "U, V = UV[:, :, 0], UV[:, :, 1]\n",
    "ax.quiver(X_coarse, Y_coarse, U, V, zorder=2)\n",
    "ax.set_aspect(\"equal\")"
   ]
  },
  {
   "cell_type": "code",
   "execution_count": null,
   "metadata": {},
   "outputs": [],
   "source": [
    "num_sides = 6\n",
    "th = 2.0 * np.pi / num_sides\n",
    "rot_half_th = np.array([[np.cos(0.5 * th), -np.sin(0.5 * th)], [np.sin(0.5 * th), np.cos(0.5 * th)]])\n",
    "rot_th = np.array([[np.cos(th), -np.sin(th)], [np.sin(th), np.cos(th)]])\n",
    "\n",
    "std = np.diag([2.0, 0.5])\n",
    "mean = np.array([0.0, 6.0])\n",
    "norms = []\n",
    "for _ in range(num_sides):\n",
    "    norms.append(MultivariateNormal(2, mean, std @ std.T))\n",
    "    std = rot_th @ std\n",
    "    mean = rot_th @ mean\n",
    "\n",
    "mix = Mixture(tuple(norms))"
   ]
  },
  {
   "cell_type": "code",
   "execution_count": null,
   "metadata": {},
   "outputs": [],
   "source": [
    "x_sample, y_sample = mix.sample(20_000).T\n",
    "\n",
    "# x_fine = np.linspace(-10.0, 10.0, 200)\n",
    "# y_fine = np.linspace(-10.0, 10.0, 200)\n",
    "x_fine = np.linspace(x_sample.min() + 2.0, x_sample.max() - 2.0, 200)\n",
    "y_fine = np.linspace(y_sample.min() + 2.0, y_sample.max() - 2.0, 200)\n",
    "X_fine, Y_fine = np.meshgrid(x_fine, y_fine)\n",
    "XY_fine = np.stack((X_fine, Y_fine), -1)\n",
    "\n",
    "Z = mix.density(XY_fine)\n",
    "\n",
    "x_coarse = x_fine[5::10]\n",
    "y_coarse = y_fine[5::10]\n",
    "X_coarse, Y_coarse = np.meshgrid(x_coarse, y_coarse)\n",
    "XY_coarse = np.stack((X_coarse, Y_coarse), -1)\n",
    "\n",
    "UV, div_UV = mix.score_with_div(XY_coarse)\n",
    "\n",
    "fig, ax = plt.subplots()\n",
    "\n",
    "ax.contour(X_fine, Y_fine, mix.density(XY_fine), levels=20)\n",
    "# for norm in norms:\n",
    "#     ax.contour(X_fine, Y_fine, norm.density(XY_fine))\n",
    "\n",
    "ax.scatter(x_sample, y_sample, s=1)\n",
    "ax.set_xlim(x_fine.min(), x_fine.max())\n",
    "ax.set_ylim(y_fine.min(), y_fine.max())\n",
    "\n",
    "norm_UV = np.sqrt(np.sum(np.square(UV), -1, keepdims=True))\n",
    "# UV /= norm_UV\n",
    "U, V = UV[:, :, 0], UV[:, :, 1]\n",
    "ax.quiver(X_coarse, Y_coarse, U, V, div_UV, zorder=2)\n",
    "ax.set_aspect(\"equal\")"
   ]
  }
 ],
 "metadata": {
  "kernelspec": {
   "display_name": ".venv",
   "language": "python",
   "name": "python3"
  },
  "language_info": {
   "codemirror_mode": {
    "name": "ipython",
    "version": 3
   },
   "file_extension": ".py",
   "mimetype": "text/x-python",
   "name": "python",
   "nbconvert_exporter": "python",
   "pygments_lexer": "ipython3",
   "version": "3.10.12"
  }
 },
 "nbformat": 4,
 "nbformat_minor": 2
}
