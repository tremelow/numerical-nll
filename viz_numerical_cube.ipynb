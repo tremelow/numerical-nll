{
 "cells": [
  {
   "cell_type": "code",
   "execution_count": null,
   "metadata": {},
   "outputs": [],
   "source": [
    "%load_ext autoreload\n",
    "%autoreload 2"
   ]
  },
  {
   "cell_type": "code",
   "execution_count": null,
   "metadata": {},
   "outputs": [],
   "source": [
    "import numpy as np\n",
    "import matplotlib as mpl\n",
    "import matplotlib.pyplot as plt\n",
    "\n",
    "DEFAULT_SEED = 42\n",
    "\n",
    "from gaussian import MultivariateNormal, VarianceExploding, VariancePreserving, SubVariancePreserving\n",
    "from numerical import EulerSolver, BroydenSolver\n",
    "from utils import cube_vertices, plot_simulation, solve_numerical_scheme, solve_flow"
   ]
  },
  {
   "cell_type": "code",
   "execution_count": null,
   "metadata": {},
   "outputs": [],
   "source": [
    "norms = cube_vertices(dim=2)"
   ]
  },
  {
   "cell_type": "markdown",
   "metadata": {},
   "source": [
    "### Explicit Euler plots"
   ]
  },
  {
   "cell_type": "code",
   "execution_count": null,
   "metadata": {},
   "outputs": [],
   "source": [
    "mix = VarianceExploding(norms)\n",
    "\n",
    "for linear_ts in [False, True]:\n",
    "    t, x, _ = solve_numerical_scheme(solver=EulerSolver, mix=mix, n_samples=5000, t_min=1e-6, tf=2.0, n_timesteps=500, linear_ts=linear_ts)\n",
    "    plot_simulation(mix, t, x, show_every=120)"
   ]
  },
  {
   "cell_type": "code",
   "execution_count": null,
   "metadata": {},
   "outputs": [],
   "source": [
    "mix = VariancePreserving(norms)\n",
    "\n",
    "for linear_ts in [False, True]:\n",
    "    t, x, _ = solve_numerical_scheme(solver=EulerSolver, mix=mix, n_samples=5000, t_min=1e-6, tf=1.0, n_timesteps=500, linear_ts=linear_ts)\n",
    "    plot_simulation(mix, t, x, show_every=120)"
   ]
  },
  {
   "cell_type": "code",
   "execution_count": null,
   "metadata": {},
   "outputs": [],
   "source": [
    "mix = SubVariancePreserving(norms)\n",
    "\n",
    "for linear_ts in [False, True]:\n",
    "    t, x, _ = solve_numerical_scheme(solver=EulerSolver, mix=mix, n_samples=5000, t_min=1e-6, tf=1.0, n_timesteps=500, linear_ts=linear_ts)\n",
    "    plot_simulation(mix, t, x, show_every=120)"
   ]
  },
  {
   "cell_type": "markdown",
   "metadata": {},
   "source": [
    "### Implicit Euler (using Broyden method) plots"
   ]
  },
  {
   "cell_type": "code",
   "execution_count": null,
   "metadata": {},
   "outputs": [],
   "source": [
    "mix = VarianceExploding(norms)\n",
    "\n",
    "for linear_ts in [False, True]:\n",
    "    t, x, _ = solve_numerical_scheme(solver=BroydenSolver, mix=mix, n_samples=5000, t_min=1e-6, tf=2.0, n_timesteps=500, linear_ts=linear_ts)\n",
    "    plot_simulation(mix, t, x, show_every=120)"
   ]
  },
  {
   "cell_type": "code",
   "execution_count": null,
   "metadata": {},
   "outputs": [],
   "source": [
    "mix = VariancePreserving(norms)\n",
    "\n",
    "for linear_ts in [False, True]:\n",
    "    t, x, _ = solve_numerical_scheme(solver=BroydenSolver, mix=mix, n_samples=5000, t_min=1e-6, tf=1.0, n_timesteps=500, linear_ts=linear_ts)\n",
    "    plot_simulation(mix, t, x, show_every=120)"
   ]
  },
  {
   "cell_type": "code",
   "execution_count": null,
   "metadata": {},
   "outputs": [],
   "source": [
    "mix = SubVariancePreserving(norms)\n",
    "\n",
    "for linear_ts in [False, True]:\n",
    "    t, x, _ = solve_numerical_scheme(solver=BroydenSolver, mix=mix, n_samples=5000, t_min=1e-6, tf=1.0, n_timesteps=500, linear_ts=linear_ts)\n",
    "    plot_simulation(mix, t, x, show_every=120)"
   ]
  },
  {
   "cell_type": "markdown",
   "metadata": {},
   "source": [
    "### Negative log-likelihood per formulation (VE, VP, sub-VP)"
   ]
  },
  {
   "cell_type": "code",
   "execution_count": null,
   "metadata": {},
   "outputs": [],
   "source": [
    "tf = 2.0\n",
    "mix = VarianceExploding(norms)\n",
    "prior = MultivariateNormal(mix.dim, cov=mix.added_noise_sq(tf))\n",
    "x, _, nll = solve_flow(mix, prior, tf=tf)\n",
    "\n",
    "plt.scatter(*x.T, s=1)\n",
    "x1_cont = np.linspace(x[:, 0].min() - 1.0, x[:, 0].max() + 1.0, 200)\n",
    "x2_cont = np.linspace(x[:, 1].min() - 1.0, x[:, 1].max() + 1.0, 200)\n",
    "x_cont = np.stack(np.meshgrid(x1_cont, x2_cont), -1)\n",
    "plt.contour(x_cont[:, :, 0], x_cont[:, :, 1], prior.density(x_cont), levels=10, alpha=0.5, cmap=\"plasma\")\n",
    "plt.title(f\"NLL: {nll:.2f}\")"
   ]
  },
  {
   "cell_type": "code",
   "execution_count": null,
   "metadata": {},
   "outputs": [],
   "source": [
    "mix = VariancePreserving(norms)\n",
    "prior = MultivariateNormal(mix.dim)\n",
    "x, _, nll = solve_flow(mix, prior)\n",
    "\n",
    "plt.scatter(*x.T, s=1)\n",
    "x1_cont = np.linspace(x[:, 0].min() - 1.0, x[:, 0].max() + 1.0, 200)\n",
    "x2_cont = np.linspace(x[:, 1].min() - 1.0, x[:, 1].max() + 1.0, 200)\n",
    "x_cont = np.stack(np.meshgrid(x1_cont, x2_cont), -1)\n",
    "plt.contour(x_cont[:, :, 0], x_cont[:, :, 1], prior.density(x_cont), levels=10, alpha=0.5, cmap=\"plasma\")\n",
    "plt.title(f\"NLL: {nll:.2f}\")"
   ]
  },
  {
   "cell_type": "code",
   "execution_count": null,
   "metadata": {},
   "outputs": [],
   "source": [
    "mix = SubVariancePreserving(norms)\n",
    "prior = MultivariateNormal(mix.dim)\n",
    "x, _, nll = solve_flow(mix, prior)\n",
    "\n",
    "plt.scatter(*x.T, s=1)\n",
    "x1_cont = np.linspace(x[:, 0].min() - 1.0, x[:, 0].max() + 1.0, 200)\n",
    "x2_cont = np.linspace(x[:, 1].min() - 1.0, x[:, 1].max() + 1.0, 200)\n",
    "x_cont = np.stack(np.meshgrid(x1_cont, x2_cont), -1)\n",
    "plt.contour(x_cont[:, :, 0], x_cont[:, :, 1], prior.density(x_cont), levels=10, alpha=0.5, cmap=\"plasma\")\n",
    "plt.title(f\"NLL: {nll:.2f}\")"
   ]
  },
  {
   "cell_type": "markdown",
   "metadata": {},
   "source": [
    "### VE NLL per dim (solve_ivp)"
   ]
  },
  {
   "cell_type": "code",
   "execution_count": null,
   "metadata": {},
   "outputs": [],
   "source": [
    "dims = [1, 2, 4, 8]\n",
    "tf = 2.0\n",
    "for dim in dims:\n",
    "    norms = cube_vertices(dim)\n",
    "    mix = VarianceExploding(norms)\n",
    "    prior = MultivariateNormal(mix.dim, cov=mix.added_noise_sq(tf))\n",
    "    x, _, nll = solve_flow(mix, prior, n_data=10000, tf=tf)\n",
    "    print(f\"dim: {dim}, nll: {nll}\")"
   ]
  },
  {
   "cell_type": "markdown",
   "metadata": {},
   "source": [
    "### VE NLL per dim (10, 20, 40, 80 steps)"
   ]
  },
  {
   "cell_type": "markdown",
   "metadata": {},
   "source": [
    "#### Explicit Euler"
   ]
  },
  {
   "cell_type": "code",
   "execution_count": null,
   "metadata": {},
   "outputs": [],
   "source": [
    "dims = [1, 2, 4, 8]\n",
    "for dim in dims:\n",
    "    norms = cube_vertices(dim)\n",
    "    mix = VarianceExploding(norms)\n",
    "\n",
    "    steps_list = [10, 20, 40, 80]\n",
    "    for steps in steps_list:\n",
    "        _, _, nll = solve_numerical_scheme(solver=EulerSolver, mix=mix, n_samples=10000, t_min=1e-6, tf=2.0, n_timesteps=steps, linear_ts=False)\n",
    "        print(\"dim:\", dim, \"steps:\", steps, \"nll:\", nll.mean())\n",
    "\n",
    "    print('-'*5)"
   ]
  },
  {
   "cell_type": "markdown",
   "metadata": {},
   "source": [
    "#### Implicit Euler (using Broyden method)"
   ]
  },
  {
   "cell_type": "code",
   "execution_count": null,
   "metadata": {},
   "outputs": [],
   "source": [
    "dims = [1, 2, 4, 8]\n",
    "for dim in dims:\n",
    "    norms = cube_vertices(dim)\n",
    "    mix = VarianceExploding(norms)\n",
    "\n",
    "    steps_list = [10, 20, 40, 80]\n",
    "    for steps in steps_list:\n",
    "        _, _, nll = solve_numerical_scheme(solver=BroydenSolver, mix=mix, n_samples=10000, t_min=1e-6, tf=2.0, n_timesteps=steps, linear_ts=False)\n",
    "        print(\"dim:\", dim, \"steps:\", steps, \"nll:\", nll.mean())\n",
    "    \n",
    "    print('-'*5)"
   ]
  },
  {
   "cell_type": "markdown",
   "metadata": {},
   "source": [
    "### Explicit Euler method issue illustration"
   ]
  },
  {
   "cell_type": "code",
   "execution_count": null,
   "metadata": {},
   "outputs": [],
   "source": [
    "norms = cube_vertices(dim=2)"
   ]
  },
  {
   "cell_type": "code",
   "execution_count": null,
   "metadata": {},
   "outputs": [],
   "source": [
    "mix = VarianceExploding(norms)\n",
    "t_explicit, x_explicit, _ = solve_numerical_scheme(solver=EulerSolver, mix=mix, n_samples=1000, t_min=1e-6, tf=2.0, n_timesteps=10, linear_ts=False)"
   ]
  },
  {
   "cell_type": "code",
   "execution_count": null,
   "metadata": {},
   "outputs": [],
   "source": [
    "mix = VarianceExploding(norms)\n",
    "t_implicit, x_implicit, _ = solve_numerical_scheme(solver=BroydenSolver, mix=mix, n_samples=1000, t_min=1e-6, tf=2.0, n_timesteps=10, linear_ts=False)"
   ]
  },
  {
   "cell_type": "code",
   "execution_count": null,
   "metadata": {},
   "outputs": [],
   "source": [
    "mix = VarianceExploding(norms)\n",
    "prior = MultivariateNormal(mix.dim, cov=mix.added_noise_sq(2.0))\n",
    "x_flow, x_init, _ = solve_flow(mix, prior, n_data=1000, t_min=0, tf=2.0)\n",
    "x_flow = np.stack([x_init, x_flow], axis=1)"
   ]
  },
  {
   "cell_type": "code",
   "execution_count": null,
   "metadata": {},
   "outputs": [],
   "source": [
    "def plot2d_clusters(x, side_len=1.0):\n",
    "    fig, ax = plt.subplots(figsize=(5, 5))\n",
    "\n",
    "    right = x[:, 0, 0] > 0.5 * side_len\n",
    "    upper = x[:, 0, 1] > 0.5 * side_len\n",
    "    colors = np.empty((len(x), 3))\n",
    "    colors[right & upper] = mpl.color_sequences[\"tab20c\"][16]\n",
    "    colors[right & ~upper] = mpl.color_sequences[\"tab20c\"][8]\n",
    "    colors[~right & upper] = mpl.color_sequences[\"tab20c\"][5]\n",
    "    colors[~right & ~upper] = mpl.color_sequences[\"tab20c\"][0]\n",
    "\n",
    "    ax.scatter(*x[:, -1, :].T, s=2, c=colors)\n",
    "    ax.set_xlim(-6, 10)\n",
    "    ax.set_ylim(-6, 10)\n",
    "    x_ticks = dict(bottom=False, top=False, labelbottom=False)\n",
    "    y_ticks = dict(left=False, right=False, labelleft=False)\n",
    "    ax.tick_params(**x_ticks, **y_ticks)\n",
    "    ax.set_aspect(\"equal\")\n",
    "\n",
    "    # inset Axes....\n",
    "    x1, x2, y1, y2 = -1.5, 1.5, -1.5, 1.5\n",
    "    axins = ax.inset_axes(\n",
    "        [0.5, 0.5, 0.45, 0.45],\n",
    "        xlim=(x1, x2), ylim=(y1, y2), xticklabels=[], yticklabels=[])\n",
    "    axins.scatter(*x[:, -1, :].T, s=30, c=colors)\n",
    "\n",
    "    ax.indicate_inset_zoom(axins, edgecolor=\"black\")\n",
    "\n",
    "    return fig"
   ]
  },
  {
   "cell_type": "markdown",
   "metadata": {},
   "source": [
    "#### Explicit Euler"
   ]
  },
  {
   "cell_type": "code",
   "execution_count": null,
   "metadata": {},
   "outputs": [],
   "source": [
    "fig = plot2d_clusters(x_explicit)\n",
    "# fig.savefig(\"clusters_euler_explicit.pdf\", bbox_inches='tight')"
   ]
  },
  {
   "cell_type": "markdown",
   "metadata": {},
   "source": [
    "#### Implicit Euler (using Broyden method)"
   ]
  },
  {
   "cell_type": "code",
   "execution_count": null,
   "metadata": {},
   "outputs": [],
   "source": [
    "fig = plot2d_clusters(x_implicit)\n",
    "# fig.savefig(\"clusters_euler_implicit.pdf\", bbox_inches='tight')"
   ]
  },
  {
   "cell_type": "markdown",
   "metadata": {},
   "source": [
    "#### Quasi-exact (solve_ivp)"
   ]
  },
  {
   "cell_type": "code",
   "execution_count": null,
   "metadata": {},
   "outputs": [],
   "source": [
    "fig = plot2d_clusters(x_flow)\n",
    "# fig.savefig(\"clusters_solve_ivp.pdf\", bbox_inches='tight')"
   ]
  },
  {
   "cell_type": "code",
   "execution_count": null,
   "metadata": {},
   "outputs": [],
   "source": []
  }
 ],
 "metadata": {
  "kernelspec": {
   "display_name": "Python 3",
   "language": "python",
   "name": "python3"
  },
  "language_info": {
   "codemirror_mode": {
    "name": "ipython",
    "version": 3
   },
   "file_extension": ".py",
   "mimetype": "text/x-python",
   "name": "python",
   "nbconvert_exporter": "python",
   "pygments_lexer": "ipython3",
   "version": "3.10.12"
  }
 },
 "nbformat": 4,
 "nbformat_minor": 2
}
