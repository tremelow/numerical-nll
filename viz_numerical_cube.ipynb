{
 "cells": [
  {
   "cell_type": "code",
   "execution_count": null,
   "metadata": {},
   "outputs": [],
   "source": [
    "%load_ext autoreload\n",
    "%autoreload 2"
   ]
  },
  {
   "cell_type": "code",
   "execution_count": null,
   "metadata": {},
   "outputs": [],
   "source": [
    "import numpy as np\n",
    "import matplotlib.pyplot as plt\n",
    "\n",
    "from scipy.integrate import solve_ivp\n",
    "\n",
    "DEFAULT_SEED = 42\n",
    "\n",
    "from gaussian import MultivariateNormal, DynamicMultivariateNormal, VarianceExploding, VariancePreserving, SubVariancePreserving\n",
    "from numerical import EulerSolver, BroydenSolver"
   ]
  },
  {
   "cell_type": "code",
   "execution_count": null,
   "metadata": {},
   "outputs": [],
   "source": [
    "def cube_vertices(dim, side_len=1.0, var=1e-2):\n",
    "    vertices1d = np.array([-side_len, side_len])\n",
    "    all_vertices1d = vertices1d.reshape(1, 2).repeat(dim, axis=0)\n",
    "    all_vertices = np.meshgrid(*all_vertices1d)\n",
    "    vertices = np.stack(all_vertices, axis=-1).reshape(-1, dim)\n",
    "    var = var * np.eye(dim)\n",
    "    return [DynamicMultivariateNormal(dim, vertex, var) for vertex in vertices]"
   ]
  },
  {
   "cell_type": "code",
   "execution_count": null,
   "metadata": {},
   "outputs": [],
   "source": [
    "def plot_simulation(mix, t, x, show_every=50):\n",
    "    num_plots = (len(t) - 1) // show_every + 1\n",
    "    fig, ax = plt.subplots(1, num_plots, figsize=(15, 3))\n",
    "\n",
    "    for i in range(num_plots):\n",
    "        si = i * show_every\n",
    "        ti = t[si]\n",
    "        xi = x[:, si, :]\n",
    "\n",
    "        x1_cont = np.linspace(xi[:, 0].min() - 1.0, xi[:, 0].max() + 1.0, 200)\n",
    "        x2_cont = np.linspace(xi[:, 1].min() - 1.0, xi[:, 1].max() + 1.0, 200)\n",
    "        x_cont = np.stack(np.meshgrid(x1_cont, x2_cont), -1)\n",
    "        x1_quiv = x1_cont[5::10]\n",
    "        x2_quiv = x2_cont[5::10]\n",
    "        x_quiv = np.stack(np.meshgrid(x1_quiv, x2_quiv), -1)\n",
    "        score, div_score = mix.score_with_div(ti, x_quiv)\n",
    "    \n",
    "        ax[i].scatter(*xi.T, s=1)\n",
    "        ax[i].contour(x_cont[:, :, 0], x_cont[:, :, 1], np.log(1e-8 + mix.density(ti, x_cont)), levels=10, alpha=0.5, cmap=\"plasma\")\n",
    "        ax[i].quiver(x_quiv[:, :, 0], x_quiv[:, :, 1], score[:, :, 0], score[:, :, 1], div_score, alpha=0.8)\n",
    "    return fig, ax"
   ]
  },
  {
   "cell_type": "code",
   "execution_count": null,
   "metadata": {},
   "outputs": [],
   "source": [
    "dim = 2\n",
    "norms = cube_vertices(2)"
   ]
  },
  {
   "cell_type": "markdown",
   "metadata": {},
   "source": [
    "### Explicit Euler plots"
   ]
  },
  {
   "cell_type": "code",
   "execution_count": null,
   "metadata": {},
   "outputs": [],
   "source": [
    "t_min = 1e-6\n",
    "tf = 2.0\n",
    "mix = VarianceExploding(norms)\n",
    "\n",
    "num_sample = 5000\n",
    "num_save = 500\n",
    "\n",
    "x_init = mix.sample(num_sample)\n",
    "\n",
    "sol = EulerSolver(mix.ode_with_jac, t_min, tf, num_save)\n",
    "t, x, _ = sol(x_init)\n",
    "plot_simulation(mix, t, x, show_every=120)\n",
    "\n",
    "sol = EulerSolver(mix.ode_with_jac, t_min, tf, num_save, linear_ts=True)\n",
    "t, x, _ = sol(x_init)\n",
    "plot_simulation(mix, t, x, show_every=120)"
   ]
  },
  {
   "cell_type": "code",
   "execution_count": null,
   "metadata": {},
   "outputs": [],
   "source": [
    "t_min = 1e-6\n",
    "tf = 1.0\n",
    "mix = VariancePreserving(norms)\n",
    "\n",
    "num_sample = 5000\n",
    "num_save = 500\n",
    "\n",
    "x_init = mix.sample(num_sample)\n",
    "\n",
    "sol = EulerSolver(mix.ode_with_jac, t_min, tf, num_save)\n",
    "t, x, _ = sol(x_init)\n",
    "plot_simulation(mix, t, x, show_every=120)\n",
    "\n",
    "sol = EulerSolver(mix.ode_with_jac, t_min, tf, num_save, linear_ts=True)\n",
    "t, x, _ = sol(x_init)\n",
    "plot_simulation(mix, t, x, show_every=120)"
   ]
  },
  {
   "cell_type": "code",
   "execution_count": null,
   "metadata": {},
   "outputs": [],
   "source": [
    "t_min = 1e-6\n",
    "tf = 1.0\n",
    "mix = SubVariancePreserving(norms)\n",
    "\n",
    "num_sample = 5000\n",
    "num_save = 500\n",
    "\n",
    "x_init = mix.sample(num_sample)\n",
    "\n",
    "sol = EulerSolver(mix.ode_with_jac, t_min, tf, num_save)\n",
    "t, x, _ = sol(x_init)\n",
    "plot_simulation(mix, t, x, show_every=120)\n",
    "\n",
    "sol = EulerSolver(mix.ode_with_jac, t_min, tf, num_save, linear_ts=True)\n",
    "t, x, _ = sol(x_init)\n",
    "plot_simulation(mix, t, x, show_every=120)"
   ]
  },
  {
   "cell_type": "markdown",
   "metadata": {},
   "source": [
    "### Implicit Euler plots (using Broyden method)"
   ]
  },
  {
   "cell_type": "code",
   "execution_count": null,
   "metadata": {},
   "outputs": [],
   "source": [
    "t_min = 1e-6\n",
    "tf = 2.0\n",
    "mix = VarianceExploding(norms)\n",
    "\n",
    "num_sample = 5000\n",
    "num_save = 500\n",
    "\n",
    "x_init = mix.sample(num_sample)\n",
    "\n",
    "sol = BroydenSolver(mix.ode, mix.ode_with_jac, t_min, tf, num_save)\n",
    "t, x, _ = sol(x_init)\n",
    "plot_simulation(mix, t, x, show_every=120)\n",
    "\n",
    "sol = BroydenSolver(mix.ode, mix.ode_with_jac, t_min, tf, num_save, linear_ts=True)\n",
    "t, x, _ = sol(x_init)\n",
    "plot_simulation(mix, t, x, show_every=120)"
   ]
  },
  {
   "cell_type": "code",
   "execution_count": null,
   "metadata": {},
   "outputs": [],
   "source": [
    "t_min = 1e-6\n",
    "tf = 1.0\n",
    "mix = VariancePreserving(norms)\n",
    "\n",
    "num_sample = 5000\n",
    "num_save = 500\n",
    "\n",
    "x_init = mix.sample(num_sample)\n",
    "\n",
    "sol = BroydenSolver(mix.ode, mix.ode_with_jac, t_min, tf, num_save)\n",
    "t, x, _ = sol(x_init)\n",
    "plot_simulation(mix, t, x, show_every=120)\n",
    "\n",
    "sol = BroydenSolver(mix.ode, mix.ode_with_jac, t_min, tf, num_save, linear_ts=True)\n",
    "t, x, _ = sol(x_init)\n",
    "plot_simulation(mix, t, x, show_every=120)"
   ]
  },
  {
   "cell_type": "code",
   "execution_count": null,
   "metadata": {},
   "outputs": [],
   "source": [
    "t_min = 1e-6\n",
    "tf = 1.0\n",
    "mix = SubVariancePreserving(norms)\n",
    "\n",
    "num_sample = 5000\n",
    "num_save = 500\n",
    "\n",
    "x_init = mix.sample(num_sample)\n",
    "\n",
    "sol = BroydenSolver(mix.ode, mix.ode_with_jac, t_min, tf, num_save)\n",
    "t, x, _ = sol(x_init)\n",
    "plot_simulation(mix, t, x, show_every=120)\n",
    "\n",
    "sol = BroydenSolver(mix.ode, mix.ode_with_jac, t_min, tf, num_save, linear_ts=True)\n",
    "t, x, _ = sol(x_init)\n",
    "plot_simulation(mix, t, x, show_every=120)"
   ]
  },
  {
   "cell_type": "markdown",
   "metadata": {},
   "source": [
    "### Negative log-likelihood per formulation (VE, VP, sub-VP)"
   ]
  },
  {
   "cell_type": "code",
   "execution_count": null,
   "metadata": {},
   "outputs": [],
   "source": [
    "def compute_nll_euler_inf(mix, prior, n_data=5000, t_min=1e-6, tf=1.0):\n",
    "    def flat_extended_ode(t, x_cumdiv_flat):\n",
    "        x, _ = np.split(x_cumdiv_flat.reshape(-1, mix.dim + 1), [mix.dim], -1)\n",
    "        dx, dlogp = mix.extended_ode(t, x)\n",
    "        return np.concatenate([dx, dlogp], 1).flatten()\n",
    "\n",
    "    x_data = mix.sample(n_data)\n",
    "    delta_logp = np.zeros((n_data, 1))\n",
    "    x_logp_init = np.concatenate([x_data, delta_logp], axis=1)\n",
    "\n",
    "    sol = solve_ivp(flat_extended_ode, (t_min, tf), x_logp_init.flatten())\n",
    "\n",
    "    x_logp_fin = sol.y[:, -1].reshape(n_data, mix.dim + 1)\n",
    "    x, delta_logp = np.split(x_logp_fin, [mix.dim], -1)\n",
    "    prior_fin = np.log(prior.density(x))\n",
    "    return x, -(delta_logp[:, 0] + prior_fin).mean() / np.log(2.0) / mix.dim"
   ]
  },
  {
   "cell_type": "code",
   "execution_count": null,
   "metadata": {},
   "outputs": [],
   "source": [
    "tf = 2.0\n",
    "mix = VarianceExploding(norms)\n",
    "prior = MultivariateNormal(mix.dim, cov=mix.added_noise_sq(tf))\n",
    "x, nll = compute_nll_euler_inf(mix, prior, tf=tf)\n",
    "plt.scatter(*x.T, s=1)\n",
    "\n",
    "x1_cont = np.linspace(x[:, 0].min() - 1.0, x[:, 0].max() + 1.0, 200)\n",
    "x2_cont = np.linspace(x[:, 1].min() - 1.0, x[:, 1].max() + 1.0, 200)\n",
    "x_cont = np.stack(np.meshgrid(x1_cont, x2_cont), -1)\n",
    "plt.contour(x_cont[:, :, 0], x_cont[:, :, 1], prior.density(x_cont), levels=10, alpha=0.5, cmap=\"plasma\")\n",
    "\n",
    "plt.title(f\"NLL: {nll:.2f}\")"
   ]
  },
  {
   "cell_type": "code",
   "execution_count": null,
   "metadata": {},
   "outputs": [],
   "source": [
    "tf = 1.0\n",
    "mix = VariancePreserving(norms)\n",
    "prior = MultivariateNormal(mix.dim)\n",
    "x, nll = compute_nll_euler_inf(mix, prior)\n",
    "plt.scatter(*x.T, s=1)\n",
    "\n",
    "x1_cont = np.linspace(x[:, 0].min() - 1.0, x[:, 0].max() + 1.0, 200)\n",
    "x2_cont = np.linspace(x[:, 1].min() - 1.0, x[:, 1].max() + 1.0, 200)\n",
    "x_cont = np.stack(np.meshgrid(x1_cont, x2_cont), -1)\n",
    "plt.contour(x_cont[:, :, 0], x_cont[:, :, 1], prior.density(x_cont), levels=10, alpha=0.5, cmap=\"plasma\")\n",
    "\n",
    "plt.title(f\"NLL: {nll:.2f}\")"
   ]
  },
  {
   "cell_type": "code",
   "execution_count": null,
   "metadata": {},
   "outputs": [],
   "source": [
    "tf = 1.0\n",
    "mix = SubVariancePreserving(norms)\n",
    "prior = MultivariateNormal(mix.dim)\n",
    "x, nll = compute_nll_euler_inf(mix, prior)\n",
    "plt.scatter(*x.T, s=1)\n",
    "\n",
    "x1_cont = np.linspace(x[:, 0].min() - 1.0, x[:, 0].max() + 1.0, 200)\n",
    "x2_cont = np.linspace(x[:, 1].min() - 1.0, x[:, 1].max() + 1.0, 200)\n",
    "x_cont = np.stack(np.meshgrid(x1_cont, x2_cont), -1)\n",
    "plt.contour(x_cont[:, :, 0], x_cont[:, :, 1], prior.density(x_cont), levels=10, alpha=0.5, cmap=\"plasma\")\n",
    "\n",
    "plt.title(f\"NLL: {nll:.2f}\")"
   ]
  },
  {
   "cell_type": "markdown",
   "metadata": {},
   "source": [
    "### VE NLL per dim (solve_ivp)"
   ]
  },
  {
   "cell_type": "code",
   "execution_count": null,
   "metadata": {},
   "outputs": [],
   "source": [
    "dims = [1, 2, 4, 8]\n",
    "for dim in dims:\n",
    "    tf = 2.0\n",
    "    norms = cube_vertices(dim)\n",
    "    mix = VarianceExploding(norms)\n",
    "    prior = MultivariateNormal(mix.dim, cov=mix.added_noise_sq(tf))\n",
    "    x, nll = compute_nll_euler_inf(mix, prior, tf=tf)\n",
    "    print(f\"dim: {dim}, nll: {nll}\")"
   ]
  },
  {
   "cell_type": "markdown",
   "metadata": {},
   "source": [
    "### VE NLL per dim (10, 20, 40, 80 steps)"
   ]
  },
  {
   "cell_type": "markdown",
   "metadata": {},
   "source": [
    "#### Explicit Euler"
   ]
  },
  {
   "cell_type": "code",
   "execution_count": null,
   "metadata": {},
   "outputs": [],
   "source": [
    "dims = [1, 2, 4, 8]\n",
    "for dim in dims:\n",
    "    t_min = 1e-6\n",
    "    tf = 2.\n",
    "    norms = cube_vertices(dim)\n",
    "    mix = VarianceExploding(norms)\n",
    "    prior = MultivariateNormal(mix.dim, cov=mix.added_noise_sq(tf))\n",
    "\n",
    "    num_sample = 5000\n",
    "    steps_list = [10, 20, 40, 80]\n",
    "    for steps in steps_list:\n",
    "        sol = EulerSolver(mix.ode_with_jac, t_min, tf, steps)\n",
    "        x = mix.sample(num_sample)\n",
    "        _, _, nll = sol(x)\n",
    "        print(\"dim:\", dim, \"steps:\", steps, \"nll:\", nll.mean())\n",
    "    \n",
    "    print('-'*5)"
   ]
  },
  {
   "cell_type": "markdown",
   "metadata": {},
   "source": [
    "#### Implicit Euler (using Broyden method)"
   ]
  },
  {
   "cell_type": "code",
   "execution_count": null,
   "metadata": {},
   "outputs": [],
   "source": [
    "dims = [1, 2, 4, 8]\n",
    "for dim in dims:\n",
    "    t_min = 1e-6\n",
    "    tf = 2.\n",
    "    norms = cube_vertices(dim)\n",
    "    mix = VarianceExploding(norms)\n",
    "    prior = MultivariateNormal(mix.dim, cov=mix.added_noise_sq(tf))\n",
    "\n",
    "    num_sample = 5000\n",
    "    steps_list = [10, 20, 40, 80]\n",
    "    for steps in steps_list:\n",
    "        sol = BroydenSolver(mix.ode, mix.ode_with_jac, t_min, tf, steps)\n",
    "        x = mix.sample(num_sample)\n",
    "        _, _, nll = sol(x)\n",
    "        print(\"dim:\", dim, \"steps:\", steps, \"nll:\", nll.mean())\n",
    "    \n",
    "    print('-'*5)"
   ]
  },
  {
   "cell_type": "code",
   "execution_count": null,
   "metadata": {},
   "outputs": [],
   "source": []
  }
 ],
 "metadata": {
  "kernelspec": {
   "display_name": "Python 3",
   "language": "python",
   "name": "python3"
  },
  "language_info": {
   "codemirror_mode": {
    "name": "ipython",
    "version": 3
   },
   "file_extension": ".py",
   "mimetype": "text/x-python",
   "name": "python",
   "nbconvert_exporter": "python",
   "pygments_lexer": "ipython3",
   "version": "3.10.12"
  }
 },
 "nbformat": 4,
 "nbformat_minor": 2
}
