{
 "cells": [
  {
   "cell_type": "code",
   "execution_count": 1,
   "metadata": {},
   "outputs": [],
   "source": [
    "%load_ext autoreload\n",
    "%autoreload 2"
   ]
  },
  {
   "cell_type": "code",
   "execution_count": 2,
   "metadata": {},
   "outputs": [],
   "source": [
    "import numpy as np\n",
    "import matplotlib as mpl\n",
    "import matplotlib.pyplot as plt\n",
    "\n",
    "from scipy.integrate import solve_ivp\n",
    "\n",
    "DEFAULT_SEED = 42\n",
    "\n",
    "from gaussian import MultivariateNormal, DynamicMultivariateNormal, VarianceExploding, VariancePreserving, SubVariancePreserving"
   ]
  },
  {
   "cell_type": "code",
   "execution_count": 29,
   "metadata": {},
   "outputs": [],
   "source": [
    "def cube_vertices(dim, side_len=1.0, var=1e-2):\n",
    "    vertices1d = np.array([-side_len, side_len])\n",
    "    all_vertices1d = vertices1d.reshape(1, 2).repeat(dim, axis=0)\n",
    "    all_vertices = np.meshgrid(*all_vertices1d)\n",
    "    vertices = np.stack(all_vertices, axis=-1).reshape(-1, dim)\n",
    "    var = var * np.eye(dim)\n",
    "    return [DynamicMultivariateNormal(dim, vertex, var) for vertex in vertices]"
   ]
  },
  {
   "cell_type": "code",
   "execution_count": null,
   "metadata": {},
   "outputs": [],
   "source": [
    "def compute_quasi_exact_nll(\n",
    "    mix, prior, n_data=50_000, batch_size=2_000, t_min=0.0, tf=1.0, seed=DEFAULT_SEED\n",
    "):\n",
    "    def flat_extended_ode(t, x_cumdiv_flat):\n",
    "        x, _ = np.split(x_cumdiv_flat.reshape(-1, mix.dim + 1), [mix.dim], -1)\n",
    "        dx, dlogp = mix.extended_ode(t, x)\n",
    "        return np.concatenate([dx, dlogp[..., None]], 1).flatten()\n",
    "\n",
    "    def solve_batch(x_init):\n",
    "        n_data = x_init.shape[0]\n",
    "        delta_logp = np.zeros((n_data, 1))\n",
    "        x_logp_init = np.concatenate([x_init, delta_logp], axis=1).flatten()\n",
    "\n",
    "        solve_params = dict(method=\"DOP853\", rtol=1e-10, atol=1e-10)\n",
    "        sol = solve_ivp(flat_extended_ode, (t_min, tf), x_logp_init, **solve_params)\n",
    "\n",
    "        x_logp_fin = sol.y[:, -1].reshape(n_data, mix.dim + 1)\n",
    "        x_fin, delta_logp = np.split(x_logp_fin, [mix.dim], -1)\n",
    "        prior_fin = np.log(prior.density(x_fin))\n",
    "        h_init = -np.log(mix.density(0.0, x_init))\n",
    "        h_fin = -np.log(mix.density(tf, x_fin))\n",
    "        nll_emp = -(delta_logp[:, 0] + prior_fin).mean()\n",
    "        nll_theo = -(h_fin - h_init + prior_fin).mean()\n",
    "\n",
    "        return x_fin, nll_emp / (np.log(2.0) * mix.dim), nll_theo / (np.log(2.0) * mix.dim)\n",
    "\n",
    "    num_batches = n_data // batch_size + (n_data % batch_size > 0)\n",
    "    seeds = np.random.SeedSequence(seed).spawn(num_batches)\n",
    "    nll_emp, nll_theo = 0.0, 0.0\n",
    "    for seed in seeds:\n",
    "        x_init = mix.sample(batch_size, seed=seed)\n",
    "        x_fin, nll_emp_batch, nll_theo_batch = solve_batch(x_init)\n",
    "        nll_emp += nll_emp_batch\n",
    "        nll_theo += nll_theo_batch\n",
    "\n",
    "    return x_fin, nll_emp / num_batches, nll_theo / num_batches"
   ]
  },
  {
   "cell_type": "code",
   "execution_count": 103,
   "metadata": {},
   "outputs": [
    {
     "name": "stdout",
     "output_type": "stream",
     "text": [
      "Dimension 8 - VE\n",
      "tot_prob: 9.664e+08, inv_prob: 8.900e+08, tot_score: 2.560e-10, tot_tensor_score: 1.201e-09, tot_jac_score: -1.990e-09\n",
      "tot_prob: 1.032e+09, inv_prob: 9.578e+08, tot_score: 2.462e-10, tot_tensor_score: 1.143e-09, tot_jac_score: -1.847e-09\n"
     ]
    },
    {
     "ename": "KeyboardInterrupt",
     "evalue": "",
     "output_type": "error",
     "traceback": [
      "\u001b[0;31m---------------------------------------------------------------------------\u001b[0m",
      "\u001b[0;31mKeyboardInterrupt\u001b[0m                         Traceback (most recent call last)",
      "Cell \u001b[0;32mIn[103], line 18\u001b[0m\n\u001b[1;32m      7\u001b[0m prior \u001b[38;5;241m=\u001b[39m MultivariateNormal(mix\u001b[38;5;241m.\u001b[39mdim, cov\u001b[38;5;241m=\u001b[39mmix\u001b[38;5;241m.\u001b[39madded_noise_sq(tf) \u001b[38;5;241m*\u001b[39m np\u001b[38;5;241m.\u001b[39meye(mix\u001b[38;5;241m.\u001b[39mdim))\n\u001b[1;32m      9\u001b[0m \u001b[38;5;66;03m# seeds = np.random.SeedSequence(DEFAULT_SEED).spawn(2)\u001b[39;00m\n\u001b[1;32m     10\u001b[0m \u001b[38;5;66;03m# x_init = mix.sample(100_000, t=0.0, seed=seeds[0])\u001b[39;00m\n\u001b[1;32m     11\u001b[0m \u001b[38;5;66;03m# x_fin = mix.sample(100_000, t=tf, seed=seeds[1])\u001b[39;00m\n\u001b[0;32m   (...)\u001b[0m\n\u001b[1;32m     15\u001b[0m \u001b[38;5;66;03m# nll = -(h_init - h_fin + h_prior) / (np.log(2.0) * mix.dim)\u001b[39;00m\n\u001b[1;32m     16\u001b[0m \u001b[38;5;66;03m# nll = -h_init / (np.log(2.0) * mix.dim)\u001b[39;00m\n\u001b[0;32m---> 18\u001b[0m x_bw, nll_emp, nll_theo \u001b[38;5;241m=\u001b[39m \u001b[43mcompute_quasi_exact_nll\u001b[49m\u001b[43m(\u001b[49m\u001b[43mmix\u001b[49m\u001b[43m,\u001b[49m\u001b[43m \u001b[49m\u001b[43mprior\u001b[49m\u001b[43m,\u001b[49m\u001b[43m \u001b[49m\u001b[43mtf\u001b[49m\u001b[38;5;241;43m=\u001b[39;49m\u001b[43mtf\u001b[49m\u001b[43m)\u001b[49m\n\u001b[1;32m     19\u001b[0m \u001b[38;5;28mprint\u001b[39m(\u001b[38;5;124mf\u001b[39m\u001b[38;5;124m\"\u001b[39m\u001b[38;5;124mtf=\u001b[39m\u001b[38;5;132;01m{\u001b[39;00mtf\u001b[38;5;132;01m}\u001b[39;00m\u001b[38;5;124m: nll=\u001b[39m\u001b[38;5;132;01m{\u001b[39;00mnll_emp\u001b[38;5;132;01m}\u001b[39;00m\u001b[38;5;124m & \u001b[39m\u001b[38;5;132;01m{\u001b[39;00mnll_theo\u001b[38;5;132;01m}\u001b[39;00m\u001b[38;5;124m (empirical & theoretical)\u001b[39m\u001b[38;5;124m\"\u001b[39m)\n",
      "Cell \u001b[0;32mIn[99], line 38\u001b[0m, in \u001b[0;36mcompute_quasi_exact_nll\u001b[0;34m(mix, prior, n_data, batch_size, t_min, tf, seed)\u001b[0m\n\u001b[1;32m     36\u001b[0m \u001b[38;5;28;01mfor\u001b[39;00m seed \u001b[38;5;129;01min\u001b[39;00m seeds:\n\u001b[1;32m     37\u001b[0m     x_init \u001b[38;5;241m=\u001b[39m mix\u001b[38;5;241m.\u001b[39msample(batch_size, seed\u001b[38;5;241m=\u001b[39mseed)\n\u001b[0;32m---> 38\u001b[0m     x_fin, nll_emp_batch, nll_theo_batch \u001b[38;5;241m=\u001b[39m \u001b[43msolve_batch\u001b[49m\u001b[43m(\u001b[49m\u001b[43mx_init\u001b[49m\u001b[43m)\u001b[49m\n\u001b[1;32m     39\u001b[0m     nll_emp \u001b[38;5;241m+\u001b[39m\u001b[38;5;241m=\u001b[39m nll_emp_batch\n\u001b[1;32m     40\u001b[0m     nll_theo \u001b[38;5;241m+\u001b[39m\u001b[38;5;241m=\u001b[39m nll_theo_batch\n",
      "Cell \u001b[0;32mIn[99], line 15\u001b[0m, in \u001b[0;36mcompute_quasi_exact_nll.<locals>.solve_batch\u001b[0;34m(x_init)\u001b[0m\n\u001b[1;32m     12\u001b[0m x_logp_init \u001b[38;5;241m=\u001b[39m np\u001b[38;5;241m.\u001b[39mconcatenate([x_init, delta_logp], axis\u001b[38;5;241m=\u001b[39m\u001b[38;5;241m1\u001b[39m)\u001b[38;5;241m.\u001b[39mflatten()\n\u001b[1;32m     14\u001b[0m solve_params \u001b[38;5;241m=\u001b[39m \u001b[38;5;28mdict\u001b[39m(method\u001b[38;5;241m=\u001b[39m\u001b[38;5;124m\"\u001b[39m\u001b[38;5;124mDOP853\u001b[39m\u001b[38;5;124m\"\u001b[39m, rtol\u001b[38;5;241m=\u001b[39m\u001b[38;5;241m1e-10\u001b[39m, atol\u001b[38;5;241m=\u001b[39m\u001b[38;5;241m1e-10\u001b[39m)\n\u001b[0;32m---> 15\u001b[0m sol \u001b[38;5;241m=\u001b[39m \u001b[43msolve_ivp\u001b[49m\u001b[43m(\u001b[49m\u001b[43mflat_extended_ode\u001b[49m\u001b[43m,\u001b[49m\u001b[43m \u001b[49m\u001b[43m(\u001b[49m\u001b[43mt_min\u001b[49m\u001b[43m,\u001b[49m\u001b[43m \u001b[49m\u001b[43mtf\u001b[49m\u001b[43m)\u001b[49m\u001b[43m,\u001b[49m\u001b[43m \u001b[49m\u001b[43mx_logp_init\u001b[49m\u001b[43m,\u001b[49m\u001b[43m \u001b[49m\u001b[38;5;241;43m*\u001b[39;49m\u001b[38;5;241;43m*\u001b[39;49m\u001b[43msolve_params\u001b[49m\u001b[43m)\u001b[49m\n\u001b[1;32m     16\u001b[0m \u001b[38;5;66;03m# print(\"number of time-steps:\", len(sol.t))\u001b[39;00m\n\u001b[1;32m     18\u001b[0m x_logp_fin \u001b[38;5;241m=\u001b[39m sol\u001b[38;5;241m.\u001b[39my[:, \u001b[38;5;241m-\u001b[39m\u001b[38;5;241m1\u001b[39m]\u001b[38;5;241m.\u001b[39mreshape(n_data, mix\u001b[38;5;241m.\u001b[39mdim \u001b[38;5;241m+\u001b[39m \u001b[38;5;241m1\u001b[39m)\n",
      "File \u001b[0;32m~/Documents/25/numerical-nll/.venv/lib/python3.10/site-packages/scipy/integrate/_ivp/ivp.py:655\u001b[0m, in \u001b[0;36msolve_ivp\u001b[0;34m(fun, t_span, y0, method, t_eval, dense_output, events, vectorized, args, **options)\u001b[0m\n\u001b[1;32m    653\u001b[0m status \u001b[38;5;241m=\u001b[39m \u001b[38;5;28;01mNone\u001b[39;00m\n\u001b[1;32m    654\u001b[0m \u001b[38;5;28;01mwhile\u001b[39;00m status \u001b[38;5;129;01mis\u001b[39;00m \u001b[38;5;28;01mNone\u001b[39;00m:\n\u001b[0;32m--> 655\u001b[0m     message \u001b[38;5;241m=\u001b[39m \u001b[43msolver\u001b[49m\u001b[38;5;241;43m.\u001b[39;49m\u001b[43mstep\u001b[49m\u001b[43m(\u001b[49m\u001b[43m)\u001b[49m\n\u001b[1;32m    657\u001b[0m     \u001b[38;5;28;01mif\u001b[39;00m solver\u001b[38;5;241m.\u001b[39mstatus \u001b[38;5;241m==\u001b[39m \u001b[38;5;124m'\u001b[39m\u001b[38;5;124mfinished\u001b[39m\u001b[38;5;124m'\u001b[39m:\n\u001b[1;32m    658\u001b[0m         status \u001b[38;5;241m=\u001b[39m \u001b[38;5;241m0\u001b[39m\n",
      "File \u001b[0;32m~/Documents/25/numerical-nll/.venv/lib/python3.10/site-packages/scipy/integrate/_ivp/base.py:197\u001b[0m, in \u001b[0;36mOdeSolver.step\u001b[0;34m(self)\u001b[0m\n\u001b[1;32m    195\u001b[0m \u001b[38;5;28;01melse\u001b[39;00m:\n\u001b[1;32m    196\u001b[0m     t \u001b[38;5;241m=\u001b[39m \u001b[38;5;28mself\u001b[39m\u001b[38;5;241m.\u001b[39mt\n\u001b[0;32m--> 197\u001b[0m     success, message \u001b[38;5;241m=\u001b[39m \u001b[38;5;28;43mself\u001b[39;49m\u001b[38;5;241;43m.\u001b[39;49m\u001b[43m_step_impl\u001b[49m\u001b[43m(\u001b[49m\u001b[43m)\u001b[49m\n\u001b[1;32m    199\u001b[0m     \u001b[38;5;28;01mif\u001b[39;00m \u001b[38;5;129;01mnot\u001b[39;00m success:\n\u001b[1;32m    200\u001b[0m         \u001b[38;5;28mself\u001b[39m\u001b[38;5;241m.\u001b[39mstatus \u001b[38;5;241m=\u001b[39m \u001b[38;5;124m'\u001b[39m\u001b[38;5;124mfailed\u001b[39m\u001b[38;5;124m'\u001b[39m\n",
      "File \u001b[0;32m~/Documents/25/numerical-nll/.venv/lib/python3.10/site-packages/scipy/integrate/_ivp/rk.py:144\u001b[0m, in \u001b[0;36mRungeKutta._step_impl\u001b[0;34m(self)\u001b[0m\n\u001b[1;32m    141\u001b[0m h \u001b[38;5;241m=\u001b[39m t_new \u001b[38;5;241m-\u001b[39m t\n\u001b[1;32m    142\u001b[0m h_abs \u001b[38;5;241m=\u001b[39m np\u001b[38;5;241m.\u001b[39mabs(h)\n\u001b[0;32m--> 144\u001b[0m y_new, f_new \u001b[38;5;241m=\u001b[39m \u001b[43mrk_step\u001b[49m\u001b[43m(\u001b[49m\u001b[38;5;28;43mself\u001b[39;49m\u001b[38;5;241;43m.\u001b[39;49m\u001b[43mfun\u001b[49m\u001b[43m,\u001b[49m\u001b[43m \u001b[49m\u001b[43mt\u001b[49m\u001b[43m,\u001b[49m\u001b[43m \u001b[49m\u001b[43my\u001b[49m\u001b[43m,\u001b[49m\u001b[43m \u001b[49m\u001b[38;5;28;43mself\u001b[39;49m\u001b[38;5;241;43m.\u001b[39;49m\u001b[43mf\u001b[49m\u001b[43m,\u001b[49m\u001b[43m \u001b[49m\u001b[43mh\u001b[49m\u001b[43m,\u001b[49m\u001b[43m \u001b[49m\u001b[38;5;28;43mself\u001b[39;49m\u001b[38;5;241;43m.\u001b[39;49m\u001b[43mA\u001b[49m\u001b[43m,\u001b[49m\n\u001b[1;32m    145\u001b[0m \u001b[43m                       \u001b[49m\u001b[38;5;28;43mself\u001b[39;49m\u001b[38;5;241;43m.\u001b[39;49m\u001b[43mB\u001b[49m\u001b[43m,\u001b[49m\u001b[43m \u001b[49m\u001b[38;5;28;43mself\u001b[39;49m\u001b[38;5;241;43m.\u001b[39;49m\u001b[43mC\u001b[49m\u001b[43m,\u001b[49m\u001b[43m \u001b[49m\u001b[38;5;28;43mself\u001b[39;49m\u001b[38;5;241;43m.\u001b[39;49m\u001b[43mK\u001b[49m\u001b[43m)\u001b[49m\n\u001b[1;32m    146\u001b[0m scale \u001b[38;5;241m=\u001b[39m atol \u001b[38;5;241m+\u001b[39m np\u001b[38;5;241m.\u001b[39mmaximum(np\u001b[38;5;241m.\u001b[39mabs(y), np\u001b[38;5;241m.\u001b[39mabs(y_new)) \u001b[38;5;241m*\u001b[39m rtol\n\u001b[1;32m    147\u001b[0m error_norm \u001b[38;5;241m=\u001b[39m \u001b[38;5;28mself\u001b[39m\u001b[38;5;241m.\u001b[39m_estimate_error_norm(\u001b[38;5;28mself\u001b[39m\u001b[38;5;241m.\u001b[39mK, h, scale)\n",
      "File \u001b[0;32m~/Documents/25/numerical-nll/.venv/lib/python3.10/site-packages/scipy/integrate/_ivp/rk.py:64\u001b[0m, in \u001b[0;36mrk_step\u001b[0;34m(fun, t, y, f, h, A, B, C, K)\u001b[0m\n\u001b[1;32m     62\u001b[0m \u001b[38;5;28;01mfor\u001b[39;00m s, (a, c) \u001b[38;5;129;01min\u001b[39;00m \u001b[38;5;28menumerate\u001b[39m(\u001b[38;5;28mzip\u001b[39m(A[\u001b[38;5;241m1\u001b[39m:], C[\u001b[38;5;241m1\u001b[39m:]), start\u001b[38;5;241m=\u001b[39m\u001b[38;5;241m1\u001b[39m):\n\u001b[1;32m     63\u001b[0m     dy \u001b[38;5;241m=\u001b[39m np\u001b[38;5;241m.\u001b[39mdot(K[:s]\u001b[38;5;241m.\u001b[39mT, a[:s]) \u001b[38;5;241m*\u001b[39m h\n\u001b[0;32m---> 64\u001b[0m     K[s] \u001b[38;5;241m=\u001b[39m \u001b[43mfun\u001b[49m\u001b[43m(\u001b[49m\u001b[43mt\u001b[49m\u001b[43m \u001b[49m\u001b[38;5;241;43m+\u001b[39;49m\u001b[43m \u001b[49m\u001b[43mc\u001b[49m\u001b[43m \u001b[49m\u001b[38;5;241;43m*\u001b[39;49m\u001b[43m \u001b[49m\u001b[43mh\u001b[49m\u001b[43m,\u001b[49m\u001b[43m \u001b[49m\u001b[43my\u001b[49m\u001b[43m \u001b[49m\u001b[38;5;241;43m+\u001b[39;49m\u001b[43m \u001b[49m\u001b[43mdy\u001b[49m\u001b[43m)\u001b[49m\n\u001b[1;32m     66\u001b[0m y_new \u001b[38;5;241m=\u001b[39m y \u001b[38;5;241m+\u001b[39m h \u001b[38;5;241m*\u001b[39m np\u001b[38;5;241m.\u001b[39mdot(K[:\u001b[38;5;241m-\u001b[39m\u001b[38;5;241m1\u001b[39m]\u001b[38;5;241m.\u001b[39mT, B)\n\u001b[1;32m     67\u001b[0m f_new \u001b[38;5;241m=\u001b[39m fun(t \u001b[38;5;241m+\u001b[39m h, y_new)\n",
      "File \u001b[0;32m~/Documents/25/numerical-nll/.venv/lib/python3.10/site-packages/scipy/integrate/_ivp/base.py:154\u001b[0m, in \u001b[0;36mOdeSolver.__init__.<locals>.fun\u001b[0;34m(t, y)\u001b[0m\n\u001b[1;32m    152\u001b[0m \u001b[38;5;28;01mdef\u001b[39;00m\u001b[38;5;250m \u001b[39m\u001b[38;5;21mfun\u001b[39m(t, y):\n\u001b[1;32m    153\u001b[0m     \u001b[38;5;28mself\u001b[39m\u001b[38;5;241m.\u001b[39mnfev \u001b[38;5;241m+\u001b[39m\u001b[38;5;241m=\u001b[39m \u001b[38;5;241m1\u001b[39m\n\u001b[0;32m--> 154\u001b[0m     \u001b[38;5;28;01mreturn\u001b[39;00m \u001b[38;5;28;43mself\u001b[39;49m\u001b[38;5;241;43m.\u001b[39;49m\u001b[43mfun_single\u001b[49m\u001b[43m(\u001b[49m\u001b[43mt\u001b[49m\u001b[43m,\u001b[49m\u001b[43m \u001b[49m\u001b[43my\u001b[49m\u001b[43m)\u001b[49m\n",
      "File \u001b[0;32m~/Documents/25/numerical-nll/.venv/lib/python3.10/site-packages/scipy/integrate/_ivp/base.py:23\u001b[0m, in \u001b[0;36mcheck_arguments.<locals>.fun_wrapped\u001b[0;34m(t, y)\u001b[0m\n\u001b[1;32m     22\u001b[0m \u001b[38;5;28;01mdef\u001b[39;00m\u001b[38;5;250m \u001b[39m\u001b[38;5;21mfun_wrapped\u001b[39m(t, y):\n\u001b[0;32m---> 23\u001b[0m     \u001b[38;5;28;01mreturn\u001b[39;00m np\u001b[38;5;241m.\u001b[39masarray(\u001b[43mfun\u001b[49m\u001b[43m(\u001b[49m\u001b[43mt\u001b[49m\u001b[43m,\u001b[49m\u001b[43m \u001b[49m\u001b[43my\u001b[49m\u001b[43m)\u001b[49m, dtype\u001b[38;5;241m=\u001b[39mdtype)\n",
      "Cell \u001b[0;32mIn[99], line 6\u001b[0m, in \u001b[0;36mcompute_quasi_exact_nll.<locals>.flat_extended_ode\u001b[0;34m(t, x_cumdiv_flat)\u001b[0m\n\u001b[1;32m      4\u001b[0m \u001b[38;5;28;01mdef\u001b[39;00m\u001b[38;5;250m \u001b[39m\u001b[38;5;21mflat_extended_ode\u001b[39m(t, x_cumdiv_flat):\n\u001b[1;32m      5\u001b[0m     x, _ \u001b[38;5;241m=\u001b[39m np\u001b[38;5;241m.\u001b[39msplit(x_cumdiv_flat\u001b[38;5;241m.\u001b[39mreshape(\u001b[38;5;241m-\u001b[39m\u001b[38;5;241m1\u001b[39m, mix\u001b[38;5;241m.\u001b[39mdim \u001b[38;5;241m+\u001b[39m \u001b[38;5;241m1\u001b[39m), [mix\u001b[38;5;241m.\u001b[39mdim], \u001b[38;5;241m-\u001b[39m\u001b[38;5;241m1\u001b[39m)\n\u001b[0;32m----> 6\u001b[0m     dx, dlogp \u001b[38;5;241m=\u001b[39m \u001b[43mmix\u001b[49m\u001b[38;5;241;43m.\u001b[39;49m\u001b[43mextended_ode\u001b[49m\u001b[43m(\u001b[49m\u001b[43mt\u001b[49m\u001b[43m,\u001b[49m\u001b[43m \u001b[49m\u001b[43mx\u001b[49m\u001b[43m)\u001b[49m\n\u001b[1;32m      7\u001b[0m     \u001b[38;5;28;01mreturn\u001b[39;00m np\u001b[38;5;241m.\u001b[39mconcatenate([dx, dlogp[\u001b[38;5;241m.\u001b[39m\u001b[38;5;241m.\u001b[39m\u001b[38;5;241m.\u001b[39m, \u001b[38;5;28;01mNone\u001b[39;00m]], \u001b[38;5;241m1\u001b[39m)\u001b[38;5;241m.\u001b[39mflatten()\n",
      "File \u001b[0;32m~/Documents/25/numerical-nll/gaussian/dynamic.py:289\u001b[0m, in \u001b[0;36mDynamicMixture.extended_ode\u001b[0;34m(self, t, x)\u001b[0m\n\u001b[1;32m    286\u001b[0m \u001b[38;5;28;01mdef\u001b[39;00m\u001b[38;5;250m \u001b[39m\u001b[38;5;21mextended_ode\u001b[39m(\u001b[38;5;28mself\u001b[39m, t, x):\n\u001b[1;32m    287\u001b[0m     \u001b[38;5;66;03m# in forward time, ODE in x concatenated with the volume variation, the time-differential of log(p)\u001b[39;00m\n\u001b[1;32m    288\u001b[0m     f_tx, div_f_tx \u001b[38;5;241m=\u001b[39m \u001b[38;5;28mself\u001b[39m\u001b[38;5;241m.\u001b[39mf_with_div(t, x)\n\u001b[0;32m--> 289\u001b[0m     score_tx, div_score_tx \u001b[38;5;241m=\u001b[39m \u001b[38;5;28;43mself\u001b[39;49m\u001b[38;5;241;43m.\u001b[39;49m\u001b[43mscore_with_div\u001b[49m\u001b[43m(\u001b[49m\u001b[43mt\u001b[49m\u001b[43m,\u001b[49m\u001b[43m \u001b[49m\u001b[43mx\u001b[49m\u001b[43m)\u001b[49m\n\u001b[1;32m    290\u001b[0m     g_sq_t \u001b[38;5;241m=\u001b[39m \u001b[38;5;28mself\u001b[39m\u001b[38;5;241m.\u001b[39mg_sq(t)\n\u001b[1;32m    291\u001b[0m     ode \u001b[38;5;241m=\u001b[39m f_tx \u001b[38;5;241m-\u001b[39m \u001b[38;5;241m0.5\u001b[39m \u001b[38;5;241m*\u001b[39m g_sq_t \u001b[38;5;241m*\u001b[39m score_tx\n",
      "File \u001b[0;32m~/Documents/25/numerical-nll/gaussian/dynamic.py:278\u001b[0m, in \u001b[0;36mDynamicMixture.score_with_div\u001b[0;34m(self, t, x)\u001b[0m\n\u001b[1;32m    277\u001b[0m \u001b[38;5;28;01mdef\u001b[39;00m\u001b[38;5;250m \u001b[39m\u001b[38;5;21mscore_with_div\u001b[39m(\u001b[38;5;28mself\u001b[39m, t, x):\n\u001b[0;32m--> 278\u001b[0m     \u001b[38;5;28;01mreturn\u001b[39;00m \u001b[43mMixture\u001b[49m\u001b[38;5;241;43m.\u001b[39;49m\u001b[43mscore_with_div\u001b[49m\u001b[43m(\u001b[49m\u001b[38;5;28;43mself\u001b[39;49m\u001b[43m,\u001b[49m\u001b[43m \u001b[49m\u001b[43mx\u001b[49m\u001b[43m,\u001b[49m\u001b[43m \u001b[49m\u001b[38;5;241;43m*\u001b[39;49m\u001b[38;5;241;43m*\u001b[39;49m\u001b[38;5;28;43mself\u001b[39;49m\u001b[38;5;241;43m.\u001b[39;49m\u001b[43mevol_t\u001b[49m\u001b[43m(\u001b[49m\u001b[43mt\u001b[49m\u001b[43m)\u001b[49m\u001b[43m)\u001b[49m\n",
      "File \u001b[0;32m~/Documents/25/numerical-nll/gaussian/static.py:170\u001b[0m, in \u001b[0;36mMixture.score_with_div\u001b[0;34m(self, x, **kwargs)\u001b[0m\n\u001b[1;32m    167\u001b[0m tot_div_score \u001b[38;5;241m=\u001b[39m np\u001b[38;5;241m.\u001b[39mzeros_like(tot_prob)\n\u001b[1;32m    169\u001b[0m \u001b[38;5;28;01mfor\u001b[39;00m w_k, rv_k \u001b[38;5;129;01min\u001b[39;00m \u001b[38;5;28mzip\u001b[39m(\u001b[38;5;28mself\u001b[39m\u001b[38;5;241m.\u001b[39mweights, \u001b[38;5;28mself\u001b[39m\u001b[38;5;241m.\u001b[39mrv):\n\u001b[0;32m--> 170\u001b[0m     prob_k \u001b[38;5;241m=\u001b[39m w_k \u001b[38;5;241m*\u001b[39m rv_k\u001b[38;5;241m.\u001b[39mdensity(x, \u001b[38;5;241m*\u001b[39m\u001b[38;5;241m*\u001b[39mkwargs)[\u001b[38;5;241m.\u001b[39m\u001b[38;5;241m.\u001b[39m\u001b[38;5;241m.\u001b[39m, \u001b[38;5;28;01mNone\u001b[39;00m]\n\u001b[1;32m    171\u001b[0m     tot_prob \u001b[38;5;241m+\u001b[39m\u001b[38;5;241m=\u001b[39m prob_k\n\u001b[1;32m    173\u001b[0m     score_k, div_score_k \u001b[38;5;241m=\u001b[39m rv_k\u001b[38;5;241m.\u001b[39mscore_with_div(x, \u001b[38;5;241m*\u001b[39m\u001b[38;5;241m*\u001b[39mkwargs)\n",
      "File \u001b[0;32m~/Documents/25/numerical-nll/gaussian/dynamic.py:177\u001b[0m, in \u001b[0;36mDynamicMultivariateNormal.density\u001b[0;34m(self, x, scaling, drift, added_noise_sq)\u001b[0m\n\u001b[1;32m    175\u001b[0m \u001b[38;5;28;01mdef\u001b[39;00m\u001b[38;5;250m \u001b[39m\u001b[38;5;21mdensity\u001b[39m(\u001b[38;5;28mself\u001b[39m, x, scaling\u001b[38;5;241m=\u001b[39m\u001b[38;5;241m1.0\u001b[39m, drift\u001b[38;5;241m=\u001b[39m\u001b[38;5;241m0.0\u001b[39m, added_noise_sq\u001b[38;5;241m=\u001b[39m\u001b[38;5;241m0.0\u001b[39m):\n\u001b[1;32m    176\u001b[0m     x_cent \u001b[38;5;241m=\u001b[39m x \u001b[38;5;241m-\u001b[39m \u001b[38;5;28mself\u001b[39m\u001b[38;5;241m.\u001b[39mmean(scaling, drift)\n\u001b[0;32m--> 177\u001b[0m     y_norm_sq, det_cov \u001b[38;5;241m=\u001b[39m \u001b[38;5;28;43mself\u001b[39;49m\u001b[38;5;241;43m.\u001b[39;49m\u001b[43mcov\u001b[49m\u001b[38;5;241;43m.\u001b[39;49m\u001b[43mreduced_norm_sq\u001b[49m\u001b[43m(\u001b[49m\n\u001b[1;32m    178\u001b[0m \u001b[43m        \u001b[49m\u001b[43mx_cent\u001b[49m\u001b[43m,\u001b[49m\u001b[43m \u001b[49m\u001b[43mscaling\u001b[49m\u001b[38;5;241;43m=\u001b[39;49m\u001b[43mscaling\u001b[49m\u001b[43m,\u001b[49m\u001b[43m \u001b[49m\u001b[43madded_noise_sq\u001b[49m\u001b[38;5;241;43m=\u001b[39;49m\u001b[43madded_noise_sq\u001b[49m\n\u001b[1;32m    179\u001b[0m \u001b[43m    \u001b[49m\u001b[43m)\u001b[49m\n\u001b[1;32m    180\u001b[0m     \u001b[38;5;28;01mreturn\u001b[39;00m np\u001b[38;5;241m.\u001b[39mexp(\u001b[38;5;241m-\u001b[39m\u001b[38;5;241m0.5\u001b[39m \u001b[38;5;241m*\u001b[39m y_norm_sq) \u001b[38;5;241m*\u001b[39m \u001b[38;5;28mself\u001b[39m\u001b[38;5;241m.\u001b[39mbase_norm_cst \u001b[38;5;241m/\u001b[39m np\u001b[38;5;241m.\u001b[39msqrt(det_cov)\n",
      "File \u001b[0;32m~/Documents/25/numerical-nll/gaussian/dynamic.py:80\u001b[0m, in \u001b[0;36mDynamicCovarianceMat.reduced_norm_sq\u001b[0;34m(self, x, scaling, added_noise_sq)\u001b[0m\n\u001b[1;32m     78\u001b[0m diag_cov \u001b[38;5;241m=\u001b[39m scaling \u001b[38;5;241m*\u001b[39m \u001b[38;5;28mself\u001b[39m\u001b[38;5;241m.\u001b[39msing_vals \u001b[38;5;241m+\u001b[39m added_noise_sq\n\u001b[1;32m     79\u001b[0m \u001b[38;5;66;03m# simplification: \\| Uh @ z \\|^2 = \\|z\\|^2\u001b[39;00m\n\u001b[0;32m---> 80\u001b[0m y_norm_sq \u001b[38;5;241m=\u001b[39m \u001b[43mnp\u001b[49m\u001b[38;5;241;43m.\u001b[39;49m\u001b[43msquare\u001b[49m\u001b[43m(\u001b[49m\u001b[43m(\u001b[49m\u001b[43mx\u001b[49m\u001b[43m \u001b[49m\u001b[38;5;241;43m@\u001b[39;49m\u001b[43m \u001b[49m\u001b[38;5;28;43mself\u001b[39;49m\u001b[38;5;241;43m.\u001b[39;49m\u001b[43mto_sing_vec\u001b[49m\u001b[43m)\u001b[49m\u001b[43m \u001b[49m\u001b[38;5;241;43m/\u001b[39;49m\u001b[43m \u001b[49m\u001b[43mnp\u001b[49m\u001b[38;5;241;43m.\u001b[39;49m\u001b[43msqrt\u001b[49m\u001b[43m(\u001b[49m\u001b[43mdiag_cov\u001b[49m\u001b[43m)\u001b[49m\u001b[43m)\u001b[49m\u001b[38;5;241m.\u001b[39msum(\u001b[38;5;241m-\u001b[39m\u001b[38;5;241m1\u001b[39m)\n\u001b[1;32m     81\u001b[0m \u001b[38;5;28;01mreturn\u001b[39;00m y_norm_sq, diag_cov\u001b[38;5;241m.\u001b[39mprod()\n",
      "\u001b[0;31mKeyboardInterrupt\u001b[0m: "
     ]
    }
   ],
   "source": [
    "for pow_dim in range(3, 4):\n",
    "    dim = 2 ** pow_dim\n",
    "    print(f\"Dimension {dim} - VE\")\n",
    "    for tf in [2.0]:\n",
    "    # for tf in [0.5, 1.0, 2.0, 4.0, 8.0, 16.0, 32.0]:\n",
    "        mix = VarianceExploding(cube_vertices(dim))\n",
    "        prior = MultivariateNormal(mix.dim, cov=mix.added_noise_sq(tf) * np.eye(mix.dim))\n",
    "\n",
    "        # seeds = np.random.SeedSequence(DEFAULT_SEED).spawn(2)\n",
    "        # x_init = mix.sample(100_000, t=0.0, seed=seeds[0])\n",
    "        # x_fin = mix.sample(100_000, t=tf, seed=seeds[1])\n",
    "        # h_init = np.mean(np.log(mix.density(0.0, x_init)))\n",
    "        # h_fin = np.mean(np.log(mix.density(tf, x_fin)))\n",
    "        # h_prior = np.mean(np.log(prior.density(x_fin)))\n",
    "        # nll = -(h_init - h_fin + h_prior) / (np.log(2.0) * mix.dim)\n",
    "        # nll = -h_init / (np.log(2.0) * mix.dim)\n",
    "\n",
    "        x_bw, nll_emp, nll_theo = compute_quasi_exact_nll(mix, prior, tf=tf)\n",
    "        print(f\"tf={tf}: nll={nll_emp} & {nll_theo} (empirical & theoretical)\")"
   ]
  },
  {
   "cell_type": "code",
   "execution_count": 17,
   "metadata": {},
   "outputs": [
    {
     "name": "stdout",
     "output_type": "stream",
     "text": [
      "Dimension 2 - VP\n",
      "beta_max=5.0: nll=-0.26473580390107515\n",
      "beta_max=10.0: nll=-0.26465953666208264\n",
      "beta_max=15.0: nll=-0.2646459555562728\n",
      "beta_max=20.0: nll=-0.26464052251283554\n",
      "beta_max=30.0: nll=-0.264635484640041\n",
      "beta_max=50.0: nll=-0.26462878531056677\n",
      "Dimension 3 - VP\n",
      "beta_max=5.0: nll=-0.27835336742055167\n",
      "beta_max=10.0: nll=-0.27830832560036056\n",
      "beta_max=15.0: nll=-0.2782836397812913\n",
      "beta_max=20.0: nll=-0.27827116429084714\n",
      "beta_max=30.0: nll=-0.2782548878596516\n",
      "beta_max=50.0: nll=-0.2782270085170098\n",
      "Dimension 4 - VP\n",
      "beta_max=5.0: nll=-0.2764088676445521\n"
     ]
    },
    {
     "ename": "KeyboardInterrupt",
     "evalue": "",
     "output_type": "error",
     "traceback": [
      "\u001b[0;31m---------------------------------------------------------------------------\u001b[0m",
      "\u001b[0;31mKeyboardInterrupt\u001b[0m                         Traceback (most recent call last)",
      "Cell \u001b[0;32mIn[17], line 7\u001b[0m\n\u001b[1;32m      4\u001b[0m mix \u001b[38;5;241m=\u001b[39m VariancePreserving(cube_vertices(dim), beta_max\u001b[38;5;241m=\u001b[39mbeta_max)\n\u001b[1;32m      5\u001b[0m prior \u001b[38;5;241m=\u001b[39m MultivariateNormal(mix\u001b[38;5;241m.\u001b[39mdim)\n\u001b[0;32m----> 7\u001b[0m x_bw, nll \u001b[38;5;241m=\u001b[39m \u001b[43mcompute_quasi_exact_nll\u001b[49m\u001b[43m(\u001b[49m\u001b[43mmix\u001b[49m\u001b[43m,\u001b[49m\u001b[43m \u001b[49m\u001b[43mprior\u001b[49m\u001b[43m)\u001b[49m\n\u001b[1;32m      8\u001b[0m \u001b[38;5;28mprint\u001b[39m(\u001b[38;5;124mf\u001b[39m\u001b[38;5;124m\"\u001b[39m\u001b[38;5;124mbeta_max=\u001b[39m\u001b[38;5;132;01m{\u001b[39;00mbeta_max\u001b[38;5;132;01m}\u001b[39;00m\u001b[38;5;124m: nll=\u001b[39m\u001b[38;5;132;01m{\u001b[39;00mnll\u001b[38;5;132;01m}\u001b[39;00m\u001b[38;5;124m\"\u001b[39m)\n",
      "Cell \u001b[0;32mIn[14], line 29\u001b[0m, in \u001b[0;36mcompute_quasi_exact_nll\u001b[0;34m(mix, prior, n_data, batch_size, t_min, tf, seed)\u001b[0m\n\u001b[1;32m     27\u001b[0m \u001b[38;5;28;01mfor\u001b[39;00m seed \u001b[38;5;129;01min\u001b[39;00m seeds:\n\u001b[1;32m     28\u001b[0m     x_init \u001b[38;5;241m=\u001b[39m mix\u001b[38;5;241m.\u001b[39msample(batch_size, seed\u001b[38;5;241m=\u001b[39mseed)\n\u001b[0;32m---> 29\u001b[0m     x_fin, nll_batch \u001b[38;5;241m=\u001b[39m \u001b[43msolve_batch\u001b[49m\u001b[43m(\u001b[49m\u001b[43mx_init\u001b[49m\u001b[43m)\u001b[49m\n\u001b[1;32m     30\u001b[0m     nll \u001b[38;5;241m+\u001b[39m\u001b[38;5;241m=\u001b[39m nll_batch\n\u001b[1;32m     32\u001b[0m \u001b[38;5;28;01mreturn\u001b[39;00m x_fin, nll \u001b[38;5;241m/\u001b[39m num_batches\n",
      "Cell \u001b[0;32mIn[14], line 15\u001b[0m, in \u001b[0;36mcompute_quasi_exact_nll.<locals>.solve_batch\u001b[0;34m(x_init)\u001b[0m\n\u001b[1;32m     12\u001b[0m x_logp_init \u001b[38;5;241m=\u001b[39m np\u001b[38;5;241m.\u001b[39mconcatenate([x_init, delta_logp], axis\u001b[38;5;241m=\u001b[39m\u001b[38;5;241m1\u001b[39m)\u001b[38;5;241m.\u001b[39mflatten()\n\u001b[1;32m     14\u001b[0m solve_params \u001b[38;5;241m=\u001b[39m \u001b[38;5;28mdict\u001b[39m(rtol\u001b[38;5;241m=\u001b[39m\u001b[38;5;241m1e-10\u001b[39m, atol\u001b[38;5;241m=\u001b[39m\u001b[38;5;241m1e-10\u001b[39m, t_eval\u001b[38;5;241m=\u001b[39mnp\u001b[38;5;241m.\u001b[39marray([t_min, tf]))\n\u001b[0;32m---> 15\u001b[0m sol \u001b[38;5;241m=\u001b[39m \u001b[43msolve_ivp\u001b[49m\u001b[43m(\u001b[49m\u001b[43mflat_extended_ode\u001b[49m\u001b[43m,\u001b[49m\u001b[43m \u001b[49m\u001b[43m(\u001b[49m\u001b[43mt_min\u001b[49m\u001b[43m,\u001b[49m\u001b[43m \u001b[49m\u001b[43mtf\u001b[49m\u001b[43m)\u001b[49m\u001b[43m,\u001b[49m\u001b[43m \u001b[49m\u001b[43mx_logp_init\u001b[49m\u001b[43m,\u001b[49m\u001b[43m \u001b[49m\u001b[38;5;241;43m*\u001b[39;49m\u001b[38;5;241;43m*\u001b[39;49m\u001b[43msolve_params\u001b[49m\u001b[43m)\u001b[49m\n\u001b[1;32m     17\u001b[0m x_logp_fin \u001b[38;5;241m=\u001b[39m sol\u001b[38;5;241m.\u001b[39my[:, \u001b[38;5;241m-\u001b[39m\u001b[38;5;241m1\u001b[39m]\u001b[38;5;241m.\u001b[39mreshape(n_data, mix\u001b[38;5;241m.\u001b[39mdim \u001b[38;5;241m+\u001b[39m \u001b[38;5;241m1\u001b[39m)\n\u001b[1;32m     18\u001b[0m x_fin, delta_logp \u001b[38;5;241m=\u001b[39m np\u001b[38;5;241m.\u001b[39msplit(x_logp_fin, [mix\u001b[38;5;241m.\u001b[39mdim], \u001b[38;5;241m-\u001b[39m\u001b[38;5;241m1\u001b[39m)\n",
      "File \u001b[0;32m~/Documents/25/numerical-nll/.venv/lib/python3.10/site-packages/scipy/integrate/_ivp/ivp.py:655\u001b[0m, in \u001b[0;36msolve_ivp\u001b[0;34m(fun, t_span, y0, method, t_eval, dense_output, events, vectorized, args, **options)\u001b[0m\n\u001b[1;32m    653\u001b[0m status \u001b[38;5;241m=\u001b[39m \u001b[38;5;28;01mNone\u001b[39;00m\n\u001b[1;32m    654\u001b[0m \u001b[38;5;28;01mwhile\u001b[39;00m status \u001b[38;5;129;01mis\u001b[39;00m \u001b[38;5;28;01mNone\u001b[39;00m:\n\u001b[0;32m--> 655\u001b[0m     message \u001b[38;5;241m=\u001b[39m \u001b[43msolver\u001b[49m\u001b[38;5;241;43m.\u001b[39;49m\u001b[43mstep\u001b[49m\u001b[43m(\u001b[49m\u001b[43m)\u001b[49m\n\u001b[1;32m    657\u001b[0m     \u001b[38;5;28;01mif\u001b[39;00m solver\u001b[38;5;241m.\u001b[39mstatus \u001b[38;5;241m==\u001b[39m \u001b[38;5;124m'\u001b[39m\u001b[38;5;124mfinished\u001b[39m\u001b[38;5;124m'\u001b[39m:\n\u001b[1;32m    658\u001b[0m         status \u001b[38;5;241m=\u001b[39m \u001b[38;5;241m0\u001b[39m\n",
      "File \u001b[0;32m~/Documents/25/numerical-nll/.venv/lib/python3.10/site-packages/scipy/integrate/_ivp/base.py:197\u001b[0m, in \u001b[0;36mOdeSolver.step\u001b[0;34m(self)\u001b[0m\n\u001b[1;32m    195\u001b[0m \u001b[38;5;28;01melse\u001b[39;00m:\n\u001b[1;32m    196\u001b[0m     t \u001b[38;5;241m=\u001b[39m \u001b[38;5;28mself\u001b[39m\u001b[38;5;241m.\u001b[39mt\n\u001b[0;32m--> 197\u001b[0m     success, message \u001b[38;5;241m=\u001b[39m \u001b[38;5;28;43mself\u001b[39;49m\u001b[38;5;241;43m.\u001b[39;49m\u001b[43m_step_impl\u001b[49m\u001b[43m(\u001b[49m\u001b[43m)\u001b[49m\n\u001b[1;32m    199\u001b[0m     \u001b[38;5;28;01mif\u001b[39;00m \u001b[38;5;129;01mnot\u001b[39;00m success:\n\u001b[1;32m    200\u001b[0m         \u001b[38;5;28mself\u001b[39m\u001b[38;5;241m.\u001b[39mstatus \u001b[38;5;241m=\u001b[39m \u001b[38;5;124m'\u001b[39m\u001b[38;5;124mfailed\u001b[39m\u001b[38;5;124m'\u001b[39m\n",
      "File \u001b[0;32m~/Documents/25/numerical-nll/.venv/lib/python3.10/site-packages/scipy/integrate/_ivp/rk.py:144\u001b[0m, in \u001b[0;36mRungeKutta._step_impl\u001b[0;34m(self)\u001b[0m\n\u001b[1;32m    141\u001b[0m h \u001b[38;5;241m=\u001b[39m t_new \u001b[38;5;241m-\u001b[39m t\n\u001b[1;32m    142\u001b[0m h_abs \u001b[38;5;241m=\u001b[39m np\u001b[38;5;241m.\u001b[39mabs(h)\n\u001b[0;32m--> 144\u001b[0m y_new, f_new \u001b[38;5;241m=\u001b[39m \u001b[43mrk_step\u001b[49m\u001b[43m(\u001b[49m\u001b[38;5;28;43mself\u001b[39;49m\u001b[38;5;241;43m.\u001b[39;49m\u001b[43mfun\u001b[49m\u001b[43m,\u001b[49m\u001b[43m \u001b[49m\u001b[43mt\u001b[49m\u001b[43m,\u001b[49m\u001b[43m \u001b[49m\u001b[43my\u001b[49m\u001b[43m,\u001b[49m\u001b[43m \u001b[49m\u001b[38;5;28;43mself\u001b[39;49m\u001b[38;5;241;43m.\u001b[39;49m\u001b[43mf\u001b[49m\u001b[43m,\u001b[49m\u001b[43m \u001b[49m\u001b[43mh\u001b[49m\u001b[43m,\u001b[49m\u001b[43m \u001b[49m\u001b[38;5;28;43mself\u001b[39;49m\u001b[38;5;241;43m.\u001b[39;49m\u001b[43mA\u001b[49m\u001b[43m,\u001b[49m\n\u001b[1;32m    145\u001b[0m \u001b[43m                       \u001b[49m\u001b[38;5;28;43mself\u001b[39;49m\u001b[38;5;241;43m.\u001b[39;49m\u001b[43mB\u001b[49m\u001b[43m,\u001b[49m\u001b[43m \u001b[49m\u001b[38;5;28;43mself\u001b[39;49m\u001b[38;5;241;43m.\u001b[39;49m\u001b[43mC\u001b[49m\u001b[43m,\u001b[49m\u001b[43m \u001b[49m\u001b[38;5;28;43mself\u001b[39;49m\u001b[38;5;241;43m.\u001b[39;49m\u001b[43mK\u001b[49m\u001b[43m)\u001b[49m\n\u001b[1;32m    146\u001b[0m scale \u001b[38;5;241m=\u001b[39m atol \u001b[38;5;241m+\u001b[39m np\u001b[38;5;241m.\u001b[39mmaximum(np\u001b[38;5;241m.\u001b[39mabs(y), np\u001b[38;5;241m.\u001b[39mabs(y_new)) \u001b[38;5;241m*\u001b[39m rtol\n\u001b[1;32m    147\u001b[0m error_norm \u001b[38;5;241m=\u001b[39m \u001b[38;5;28mself\u001b[39m\u001b[38;5;241m.\u001b[39m_estimate_error_norm(\u001b[38;5;28mself\u001b[39m\u001b[38;5;241m.\u001b[39mK, h, scale)\n",
      "File \u001b[0;32m~/Documents/25/numerical-nll/.venv/lib/python3.10/site-packages/scipy/integrate/_ivp/rk.py:64\u001b[0m, in \u001b[0;36mrk_step\u001b[0;34m(fun, t, y, f, h, A, B, C, K)\u001b[0m\n\u001b[1;32m     62\u001b[0m \u001b[38;5;28;01mfor\u001b[39;00m s, (a, c) \u001b[38;5;129;01min\u001b[39;00m \u001b[38;5;28menumerate\u001b[39m(\u001b[38;5;28mzip\u001b[39m(A[\u001b[38;5;241m1\u001b[39m:], C[\u001b[38;5;241m1\u001b[39m:]), start\u001b[38;5;241m=\u001b[39m\u001b[38;5;241m1\u001b[39m):\n\u001b[1;32m     63\u001b[0m     dy \u001b[38;5;241m=\u001b[39m np\u001b[38;5;241m.\u001b[39mdot(K[:s]\u001b[38;5;241m.\u001b[39mT, a[:s]) \u001b[38;5;241m*\u001b[39m h\n\u001b[0;32m---> 64\u001b[0m     K[s] \u001b[38;5;241m=\u001b[39m \u001b[43mfun\u001b[49m\u001b[43m(\u001b[49m\u001b[43mt\u001b[49m\u001b[43m \u001b[49m\u001b[38;5;241;43m+\u001b[39;49m\u001b[43m \u001b[49m\u001b[43mc\u001b[49m\u001b[43m \u001b[49m\u001b[38;5;241;43m*\u001b[39;49m\u001b[43m \u001b[49m\u001b[43mh\u001b[49m\u001b[43m,\u001b[49m\u001b[43m \u001b[49m\u001b[43my\u001b[49m\u001b[43m \u001b[49m\u001b[38;5;241;43m+\u001b[39;49m\u001b[43m \u001b[49m\u001b[43mdy\u001b[49m\u001b[43m)\u001b[49m\n\u001b[1;32m     66\u001b[0m y_new \u001b[38;5;241m=\u001b[39m y \u001b[38;5;241m+\u001b[39m h \u001b[38;5;241m*\u001b[39m np\u001b[38;5;241m.\u001b[39mdot(K[:\u001b[38;5;241m-\u001b[39m\u001b[38;5;241m1\u001b[39m]\u001b[38;5;241m.\u001b[39mT, B)\n\u001b[1;32m     67\u001b[0m f_new \u001b[38;5;241m=\u001b[39m fun(t \u001b[38;5;241m+\u001b[39m h, y_new)\n",
      "File \u001b[0;32m~/Documents/25/numerical-nll/.venv/lib/python3.10/site-packages/scipy/integrate/_ivp/base.py:154\u001b[0m, in \u001b[0;36mOdeSolver.__init__.<locals>.fun\u001b[0;34m(t, y)\u001b[0m\n\u001b[1;32m    152\u001b[0m \u001b[38;5;28;01mdef\u001b[39;00m\u001b[38;5;250m \u001b[39m\u001b[38;5;21mfun\u001b[39m(t, y):\n\u001b[1;32m    153\u001b[0m     \u001b[38;5;28mself\u001b[39m\u001b[38;5;241m.\u001b[39mnfev \u001b[38;5;241m+\u001b[39m\u001b[38;5;241m=\u001b[39m \u001b[38;5;241m1\u001b[39m\n\u001b[0;32m--> 154\u001b[0m     \u001b[38;5;28;01mreturn\u001b[39;00m \u001b[38;5;28;43mself\u001b[39;49m\u001b[38;5;241;43m.\u001b[39;49m\u001b[43mfun_single\u001b[49m\u001b[43m(\u001b[49m\u001b[43mt\u001b[49m\u001b[43m,\u001b[49m\u001b[43m \u001b[49m\u001b[43my\u001b[49m\u001b[43m)\u001b[49m\n",
      "File \u001b[0;32m~/Documents/25/numerical-nll/.venv/lib/python3.10/site-packages/scipy/integrate/_ivp/base.py:23\u001b[0m, in \u001b[0;36mcheck_arguments.<locals>.fun_wrapped\u001b[0;34m(t, y)\u001b[0m\n\u001b[1;32m     22\u001b[0m \u001b[38;5;28;01mdef\u001b[39;00m\u001b[38;5;250m \u001b[39m\u001b[38;5;21mfun_wrapped\u001b[39m(t, y):\n\u001b[0;32m---> 23\u001b[0m     \u001b[38;5;28;01mreturn\u001b[39;00m np\u001b[38;5;241m.\u001b[39masarray(\u001b[43mfun\u001b[49m\u001b[43m(\u001b[49m\u001b[43mt\u001b[49m\u001b[43m,\u001b[49m\u001b[43m \u001b[49m\u001b[43my\u001b[49m\u001b[43m)\u001b[49m, dtype\u001b[38;5;241m=\u001b[39mdtype)\n",
      "Cell \u001b[0;32mIn[14], line 6\u001b[0m, in \u001b[0;36mcompute_quasi_exact_nll.<locals>.flat_extended_ode\u001b[0;34m(t, x_cumdiv_flat)\u001b[0m\n\u001b[1;32m      4\u001b[0m \u001b[38;5;28;01mdef\u001b[39;00m\u001b[38;5;250m \u001b[39m\u001b[38;5;21mflat_extended_ode\u001b[39m(t, x_cumdiv_flat):\n\u001b[1;32m      5\u001b[0m     x, _ \u001b[38;5;241m=\u001b[39m np\u001b[38;5;241m.\u001b[39msplit(x_cumdiv_flat\u001b[38;5;241m.\u001b[39mreshape(\u001b[38;5;241m-\u001b[39m\u001b[38;5;241m1\u001b[39m, mix\u001b[38;5;241m.\u001b[39mdim \u001b[38;5;241m+\u001b[39m \u001b[38;5;241m1\u001b[39m), [mix\u001b[38;5;241m.\u001b[39mdim], \u001b[38;5;241m-\u001b[39m\u001b[38;5;241m1\u001b[39m)\n\u001b[0;32m----> 6\u001b[0m     dx, dlogp \u001b[38;5;241m=\u001b[39m \u001b[43mmix\u001b[49m\u001b[38;5;241;43m.\u001b[39;49m\u001b[43mextended_ode\u001b[49m\u001b[43m(\u001b[49m\u001b[43mt\u001b[49m\u001b[43m,\u001b[49m\u001b[43m \u001b[49m\u001b[43mx\u001b[49m\u001b[43m)\u001b[49m\n\u001b[1;32m      7\u001b[0m     \u001b[38;5;28;01mreturn\u001b[39;00m np\u001b[38;5;241m.\u001b[39mconcatenate([dx, dlogp[\u001b[38;5;241m.\u001b[39m\u001b[38;5;241m.\u001b[39m\u001b[38;5;241m.\u001b[39m, \u001b[38;5;28;01mNone\u001b[39;00m]], \u001b[38;5;241m1\u001b[39m)\u001b[38;5;241m.\u001b[39mflatten()\n",
      "File \u001b[0;32m~/Documents/25/numerical-nll/gaussian/dynamic.py:291\u001b[0m, in \u001b[0;36mDynamicMixture.extended_ode\u001b[0;34m(self, t, x)\u001b[0m\n\u001b[1;32m    288\u001b[0m \u001b[38;5;28;01mdef\u001b[39;00m\u001b[38;5;250m \u001b[39m\u001b[38;5;21mextended_ode\u001b[39m(\u001b[38;5;28mself\u001b[39m, t, x):\n\u001b[1;32m    289\u001b[0m     \u001b[38;5;66;03m# in forward time, ODE in x concatenated with the volume variation, the time-differential of log(p)\u001b[39;00m\n\u001b[1;32m    290\u001b[0m     f_tx, div_f_tx \u001b[38;5;241m=\u001b[39m \u001b[38;5;28mself\u001b[39m\u001b[38;5;241m.\u001b[39mf_with_div(t, x)\n\u001b[0;32m--> 291\u001b[0m     score_tx, div_score_tx \u001b[38;5;241m=\u001b[39m \u001b[38;5;28;43mself\u001b[39;49m\u001b[38;5;241;43m.\u001b[39;49m\u001b[43mscore_with_div\u001b[49m\u001b[43m(\u001b[49m\u001b[43mt\u001b[49m\u001b[43m,\u001b[49m\u001b[43m \u001b[49m\u001b[43mx\u001b[49m\u001b[43m)\u001b[49m\n\u001b[1;32m    292\u001b[0m     g_sq_t \u001b[38;5;241m=\u001b[39m \u001b[38;5;28mself\u001b[39m\u001b[38;5;241m.\u001b[39mg_sq(t)\n\u001b[1;32m    293\u001b[0m     ode \u001b[38;5;241m=\u001b[39m f_tx \u001b[38;5;241m-\u001b[39m \u001b[38;5;241m0.5\u001b[39m \u001b[38;5;241m*\u001b[39m g_sq_t \u001b[38;5;241m*\u001b[39m score_tx\n",
      "File \u001b[0;32m~/Documents/25/numerical-nll/gaussian/dynamic.py:280\u001b[0m, in \u001b[0;36mDynamicMixture.score_with_div\u001b[0;34m(self, t, x)\u001b[0m\n\u001b[1;32m    277\u001b[0m \u001b[38;5;28;01mdef\u001b[39;00m\u001b[38;5;250m \u001b[39m\u001b[38;5;21mscore_with_div\u001b[39m(\u001b[38;5;28mself\u001b[39m, t, x):\n\u001b[1;32m    278\u001b[0m     \u001b[38;5;66;03m# score, jac = self.score_with_jac(t, x)\u001b[39;00m\n\u001b[1;32m    279\u001b[0m     \u001b[38;5;66;03m# return score, np.linalg.trace(jac)\u001b[39;00m\n\u001b[0;32m--> 280\u001b[0m     \u001b[38;5;28;01mreturn\u001b[39;00m \u001b[43mMixture\u001b[49m\u001b[38;5;241;43m.\u001b[39;49m\u001b[43mscore_with_div\u001b[49m\u001b[43m(\u001b[49m\u001b[38;5;28;43mself\u001b[39;49m\u001b[43m,\u001b[49m\u001b[43m \u001b[49m\u001b[43mx\u001b[49m\u001b[43m,\u001b[49m\u001b[43m \u001b[49m\u001b[38;5;241;43m*\u001b[39;49m\u001b[38;5;241;43m*\u001b[39;49m\u001b[38;5;28;43mself\u001b[39;49m\u001b[38;5;241;43m.\u001b[39;49m\u001b[43mevol_t\u001b[49m\u001b[43m(\u001b[49m\u001b[43mt\u001b[49m\u001b[43m)\u001b[49m\u001b[43m)\u001b[49m\n",
      "File \u001b[0;32m~/Documents/25/numerical-nll/gaussian/static.py:173\u001b[0m, in \u001b[0;36mMixture.score_with_div\u001b[0;34m(self, x, **kwargs)\u001b[0m\n\u001b[1;32m    170\u001b[0m prob_k \u001b[38;5;241m=\u001b[39m w_k \u001b[38;5;241m*\u001b[39m rv_k\u001b[38;5;241m.\u001b[39mdensity(x, \u001b[38;5;241m*\u001b[39m\u001b[38;5;241m*\u001b[39mkwargs)[\u001b[38;5;241m.\u001b[39m\u001b[38;5;241m.\u001b[39m\u001b[38;5;241m.\u001b[39m, \u001b[38;5;28;01mNone\u001b[39;00m]\n\u001b[1;32m    171\u001b[0m tot_prob \u001b[38;5;241m+\u001b[39m\u001b[38;5;241m=\u001b[39m prob_k\n\u001b[0;32m--> 173\u001b[0m score_k, div_score_k \u001b[38;5;241m=\u001b[39m \u001b[43mrv_k\u001b[49m\u001b[38;5;241;43m.\u001b[39;49m\u001b[43mscore_with_div\u001b[49m\u001b[43m(\u001b[49m\u001b[43mx\u001b[49m\u001b[43m,\u001b[49m\u001b[43m \u001b[49m\u001b[38;5;241;43m*\u001b[39;49m\u001b[38;5;241;43m*\u001b[39;49m\u001b[43mkwargs\u001b[49m\u001b[43m)\u001b[49m\n\u001b[1;32m    174\u001b[0m tot_score \u001b[38;5;241m+\u001b[39m\u001b[38;5;241m=\u001b[39m prob_k \u001b[38;5;241m*\u001b[39m score_k\n\u001b[1;32m    176\u001b[0m tot_norm_sq_score \u001b[38;5;241m+\u001b[39m\u001b[38;5;241m=\u001b[39m prob_k \u001b[38;5;241m*\u001b[39m np\u001b[38;5;241m.\u001b[39msum(np\u001b[38;5;241m.\u001b[39msquare(score_k), \u001b[38;5;241m-\u001b[39m\u001b[38;5;241m1\u001b[39m, keepdims\u001b[38;5;241m=\u001b[39m\u001b[38;5;28;01mTrue\u001b[39;00m)\n",
      "File \u001b[0;32m~/Documents/25/numerical-nll/gaussian/dynamic.py:190\u001b[0m, in \u001b[0;36mDynamicMultivariateNormal.score_with_div\u001b[0;34m(self, x, scaling, drift, added_noise_sq)\u001b[0m\n\u001b[1;32m    188\u001b[0m \u001b[38;5;28;01mdef\u001b[39;00m\u001b[38;5;250m \u001b[39m\u001b[38;5;21mscore_with_div\u001b[39m(\u001b[38;5;28mself\u001b[39m, x, scaling\u001b[38;5;241m=\u001b[39m\u001b[38;5;241m1.0\u001b[39m, drift\u001b[38;5;241m=\u001b[39m\u001b[38;5;241m0.0\u001b[39m, added_noise_sq\u001b[38;5;241m=\u001b[39m\u001b[38;5;241m0.0\u001b[39m):\n\u001b[1;32m    189\u001b[0m     x_cent \u001b[38;5;241m=\u001b[39m x \u001b[38;5;241m-\u001b[39m \u001b[38;5;28mself\u001b[39m\u001b[38;5;241m.\u001b[39mmean(scaling, drift)\n\u001b[0;32m--> 190\u001b[0m     y, tr \u001b[38;5;241m=\u001b[39m \u001b[38;5;28;43mself\u001b[39;49m\u001b[38;5;241;43m.\u001b[39;49m\u001b[43mcov\u001b[49m\u001b[38;5;241;43m.\u001b[39;49m\u001b[43mreduce_grad_and_divgrad\u001b[49m\u001b[43m(\u001b[49m\n\u001b[1;32m    191\u001b[0m \u001b[43m        \u001b[49m\u001b[43mx_cent\u001b[49m\u001b[43m,\u001b[49m\u001b[43m \u001b[49m\u001b[43mscaling\u001b[49m\u001b[38;5;241;43m=\u001b[39;49m\u001b[43mscaling\u001b[49m\u001b[43m,\u001b[49m\u001b[43m \u001b[49m\u001b[43madded_noise_sq\u001b[49m\u001b[38;5;241;43m=\u001b[39;49m\u001b[43madded_noise_sq\u001b[49m\n\u001b[1;32m    192\u001b[0m \u001b[43m    \u001b[49m\u001b[43m)\u001b[49m\n\u001b[1;32m    193\u001b[0m     \u001b[38;5;28;01mreturn\u001b[39;00m \u001b[38;5;241m-\u001b[39my, \u001b[38;5;241m-\u001b[39mtr\n",
      "File \u001b[0;32m~/Documents/25/numerical-nll/gaussian/dynamic.py:90\u001b[0m, in \u001b[0;36mDynamicCovarianceMat.reduce_grad_and_divgrad\u001b[0;34m(self, x, scaling, added_noise_sq)\u001b[0m\n\u001b[1;32m     88\u001b[0m inv_diag_cov \u001b[38;5;241m=\u001b[39m \u001b[38;5;241m1.0\u001b[39m \u001b[38;5;241m/\u001b[39m (scaling \u001b[38;5;241m*\u001b[39m \u001b[38;5;28mself\u001b[39m\u001b[38;5;241m.\u001b[39msing_vals \u001b[38;5;241m+\u001b[39m added_noise_sq)\n\u001b[1;32m     89\u001b[0m y \u001b[38;5;241m=\u001b[39m ((x \u001b[38;5;241m@\u001b[39m \u001b[38;5;28mself\u001b[39m\u001b[38;5;241m.\u001b[39mto_sing_vec) \u001b[38;5;241m*\u001b[39m inv_diag_cov) \u001b[38;5;241m@\u001b[39m \u001b[38;5;28mself\u001b[39m\u001b[38;5;241m.\u001b[39mfrom_sing_vec\n\u001b[0;32m---> 90\u001b[0m \u001b[38;5;28;01mreturn\u001b[39;00m y, \u001b[43mnp\u001b[49m\u001b[38;5;241;43m.\u001b[39;49m\u001b[43msum\u001b[49m\u001b[43m(\u001b[49m\u001b[43minv_diag_cov\u001b[49m\u001b[43m)\u001b[49m\n",
      "File \u001b[0;32m~/Documents/25/numerical-nll/.venv/lib/python3.10/site-packages/numpy/_core/fromnumeric.py:2466\u001b[0m, in \u001b[0;36msum\u001b[0;34m(a, axis, dtype, out, keepdims, initial, where)\u001b[0m\n\u001b[1;32m   2463\u001b[0m         \u001b[38;5;28;01mreturn\u001b[39;00m out\n\u001b[1;32m   2464\u001b[0m     \u001b[38;5;28;01mreturn\u001b[39;00m res\n\u001b[0;32m-> 2466\u001b[0m \u001b[38;5;28;01mreturn\u001b[39;00m \u001b[43m_wrapreduction\u001b[49m\u001b[43m(\u001b[49m\n\u001b[1;32m   2467\u001b[0m \u001b[43m    \u001b[49m\u001b[43ma\u001b[49m\u001b[43m,\u001b[49m\u001b[43m \u001b[49m\u001b[43mnp\u001b[49m\u001b[38;5;241;43m.\u001b[39;49m\u001b[43madd\u001b[49m\u001b[43m,\u001b[49m\u001b[43m \u001b[49m\u001b[38;5;124;43m'\u001b[39;49m\u001b[38;5;124;43msum\u001b[39;49m\u001b[38;5;124;43m'\u001b[39;49m\u001b[43m,\u001b[49m\u001b[43m \u001b[49m\u001b[43maxis\u001b[49m\u001b[43m,\u001b[49m\u001b[43m \u001b[49m\u001b[43mdtype\u001b[49m\u001b[43m,\u001b[49m\u001b[43m \u001b[49m\u001b[43mout\u001b[49m\u001b[43m,\u001b[49m\n\u001b[1;32m   2468\u001b[0m \u001b[43m    \u001b[49m\u001b[43mkeepdims\u001b[49m\u001b[38;5;241;43m=\u001b[39;49m\u001b[43mkeepdims\u001b[49m\u001b[43m,\u001b[49m\u001b[43m \u001b[49m\u001b[43minitial\u001b[49m\u001b[38;5;241;43m=\u001b[39;49m\u001b[43minitial\u001b[49m\u001b[43m,\u001b[49m\u001b[43m \u001b[49m\u001b[43mwhere\u001b[49m\u001b[38;5;241;43m=\u001b[39;49m\u001b[43mwhere\u001b[49m\n\u001b[1;32m   2469\u001b[0m \u001b[43m\u001b[49m\u001b[43m)\u001b[49m\n",
      "File \u001b[0;32m~/Documents/25/numerical-nll/.venv/lib/python3.10/site-packages/numpy/_core/fromnumeric.py:70\u001b[0m, in \u001b[0;36m_wrapreduction\u001b[0;34m(obj, ufunc, method, axis, dtype, out, **kwargs)\u001b[0m\n\u001b[1;32m     69\u001b[0m \u001b[38;5;28;01mdef\u001b[39;00m\u001b[38;5;250m \u001b[39m\u001b[38;5;21m_wrapreduction\u001b[39m(obj, ufunc, method, axis, dtype, out, \u001b[38;5;241m*\u001b[39m\u001b[38;5;241m*\u001b[39mkwargs):\n\u001b[0;32m---> 70\u001b[0m     passkwargs \u001b[38;5;241m=\u001b[39m {k: v \u001b[38;5;28;01mfor\u001b[39;00m k, v \u001b[38;5;129;01min\u001b[39;00m \u001b[43mkwargs\u001b[49m\u001b[38;5;241;43m.\u001b[39;49m\u001b[43mitems\u001b[49m\u001b[43m(\u001b[49m\u001b[43m)\u001b[49m\n\u001b[1;32m     71\u001b[0m                   \u001b[38;5;28;01mif\u001b[39;00m v \u001b[38;5;129;01mis\u001b[39;00m \u001b[38;5;129;01mnot\u001b[39;00m np\u001b[38;5;241m.\u001b[39m_NoValue}\n\u001b[1;32m     73\u001b[0m     \u001b[38;5;28;01mif\u001b[39;00m \u001b[38;5;28mtype\u001b[39m(obj) \u001b[38;5;129;01mis\u001b[39;00m \u001b[38;5;129;01mnot\u001b[39;00m mu\u001b[38;5;241m.\u001b[39mndarray:\n\u001b[1;32m     74\u001b[0m         \u001b[38;5;28;01mtry\u001b[39;00m:\n",
      "\u001b[0;31mKeyboardInterrupt\u001b[0m: "
     ]
    }
   ],
   "source": [
    "for dim in range(2, 6):\n",
    "    print(f\"Dimension {dim} - VP\")\n",
    "    for beta_max in [5.0, 10.0, 15.0, 20.0, 30.0, 50.0]:\n",
    "        mix = VariancePreserving(cube_vertices(dim), beta_max=beta_max)\n",
    "        prior = MultivariateNormal(mix.dim)\n",
    "\n",
    "        x_bw, nll = compute_quasi_exact_nll(mix, prior)\n",
    "        print(f\"beta_max={beta_max}: nll={nll}\")"
   ]
  }
 ],
 "metadata": {
  "kernelspec": {
   "display_name": ".venv",
   "language": "python",
   "name": "python3"
  },
  "language_info": {
   "codemirror_mode": {
    "name": "ipython",
    "version": 3
   },
   "file_extension": ".py",
   "mimetype": "text/x-python",
   "name": "python",
   "nbconvert_exporter": "python",
   "pygments_lexer": "ipython3",
   "version": "3.10.12"
  }
 },
 "nbformat": 4,
 "nbformat_minor": 2
}
