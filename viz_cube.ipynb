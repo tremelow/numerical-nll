{
 "cells": [
  {
   "cell_type": "code",
   "execution_count": null,
   "metadata": {},
   "outputs": [],
   "source": [
    "import numpy as np\n",
    "\n",
    "import matplotlib as mpl\n",
    "import matplotlib.pyplot as plt\n",
    "\n",
    "from scipy.integrate import solve_ivp\n",
    "\n",
    "DEFAULT_SEED = 42\n",
    "\n",
    "from gaussian import MultivariateNormal, DynamicMultivariateNormal, VarianceExploding, VariancePreserving, SubVariancePreserving"
   ]
  },
  {
   "cell_type": "code",
   "execution_count": null,
   "metadata": {},
   "outputs": [],
   "source": [
    "def cube_vertices(dim, side_len=1.0, var=1e-2):\n",
    "    vertices1d = np.array([-side_len, side_len])\n",
    "    all_vertices1d = vertices1d.reshape(1, 2).repeat(dim, axis=0)\n",
    "    all_vertices = np.meshgrid(*all_vertices1d)\n",
    "    vertices = np.stack(all_vertices, axis=-1).reshape(-1, dim)\n",
    "    var = var * np.eye(dim)\n",
    "    return [DynamicMultivariateNormal(dim, vertex, var) for vertex in vertices]"
   ]
  },
  {
   "cell_type": "code",
   "execution_count": null,
   "metadata": {},
   "outputs": [],
   "source": [
    "def simulate_sde(\n",
    "    mix, tf=1.0, num_sample=2000, nt=50_000, num_save=200, seed=DEFAULT_SEED\n",
    "):\n",
    "    # exact if mix.f == 0 :)\n",
    "    x_init = mix.sample(num_sample, seed=seed)\n",
    "    rho, xi = 7, np.linspace(0.0, 1.0, nt + 1)\n",
    "    t = tf * np.pow(xi, rho)\n",
    "\n",
    "    save_every = nt // num_save\n",
    "    x = x_init[:, None, :].repeat(num_save + 1, 1)\n",
    "\n",
    "    rng = np.random.default_rng(seed)\n",
    "\n",
    "    xi = x_init\n",
    "    for i, (ti, dti) in enumerate(zip(t, np.diff(t))):\n",
    "        dwi = np.sqrt(dti) * rng.normal(size=xi.shape)\n",
    "        xi = xi + dti * mix.f(ti, xi) + mix.g(ti) * dwi\n",
    "        if i % save_every == 0:\n",
    "            x[:, i // save_every, :] = xi\n",
    "\n",
    "    return t[::save_every], x\n",
    "\n",
    "\n",
    "def simulate_ode(\n",
    "    mix, tf=1.0, num_sample=2_000, num_save=200, seed=DEFAULT_SEED\n",
    "):\n",
    "    def flat_ode(t, x_flat):\n",
    "        x = x_flat.reshape(-1, mix.dim)\n",
    "        return mix.ode(t, x).flatten()\n",
    "\n",
    "    x_init = mix.sample(num_sample, seed=seed)\n",
    "    rho, xi = 7, np.linspace(0.0, 1.0, num_save + 1)\n",
    "    t = tf * np.pow(xi, rho)\n",
    "\n",
    "    solve_params = dict(\n",
    "        rtol=1e-10, atol=1e-10, t_eval=t\n",
    "    )\n",
    "    sol = solve_ivp(flat_ode, (0.0, tf), x_init.flatten(), **solve_params)\n",
    "    x = sol.y.reshape(num_sample, mix.dim, num_save + 1).transpose(0, 2, 1)\n",
    "    return sol.t, x"
   ]
  },
  {
   "cell_type": "markdown",
   "metadata": {},
   "source": [
    "## Square (2D)"
   ]
  },
  {
   "cell_type": "code",
   "execution_count": null,
   "metadata": {},
   "outputs": [],
   "source": [
    "def plot2d(mix, t, x, show_every=50):\n",
    "    num_plots = (len(t) - 1) // show_every + 1\n",
    "    fig, ax = plt.subplots(1, num_plots, figsize=(15, 3))\n",
    "\n",
    "    for i in range(num_plots):\n",
    "        si = i * show_every\n",
    "        ti = t[si]\n",
    "        xi = x[:, si, :]\n",
    "        ax[i].scatter(*xi.T, s=1)\n",
    "\n",
    "        x_min, x_max = xi.min(0), xi.max(0)\n",
    "        x_range = x_max - x_min\n",
    "        x_min, x_max = x_min - 0.15 * x_range, x_max + 0.15 * x_range\n",
    "\n",
    "        x_cont_flat = np.linspace(x_min, x_max, 200)\n",
    "        x_cont = np.stack(np.meshgrid(*x_cont_flat.T), -1)\n",
    "        dens = mix.density(ti, x_cont)\n",
    "\n",
    "        x1_cont, x2_cont = x_cont[:, :, 0], x_cont[:, :, 1]\n",
    "        ax[i].contour(x1_cont, x2_cont, dens, levels=10, alpha=0.5, cmap=\"plasma\")\n",
    "\n",
    "        x_quiv_flat = x_cont_flat[5::10]\n",
    "        x_quiv = np.stack(np.meshgrid(*x_quiv_flat.T), -1)\n",
    "        score, div_score = mix.score_with_div(ti, x_quiv)\n",
    "\n",
    "        x1_quiv, x2_quiv = x_quiv[:, :, 0], x_quiv[:, :, 1]\n",
    "        score1, score2 = score[:, :, 0], score[:, :, 1]\n",
    "        ax[i].quiver(x1_quiv, x2_quiv, score1, score2, div_score, alpha=1.0)\n",
    "    return fig, ax"
   ]
  },
  {
   "cell_type": "markdown",
   "metadata": {},
   "source": [
    "### Variance exploding"
   ]
  },
  {
   "cell_type": "code",
   "execution_count": null,
   "metadata": {},
   "outputs": [],
   "source": [
    "mix2d = VarianceExploding(cube_vertices(2))\n",
    "tf = 20.0  # np.sqrt(4.0)\n",
    "prior2d = MultivariateNormal(mix2d.dim, cov=mix2d.added_noise_sq(tf) * np.eye(mix2d.dim))\n",
    "t_sde, x_sde = simulate_sde(mix2d, tf=tf)\n",
    "t_ode, x_ode = simulate_ode(mix2d, tf=tf)"
   ]
  },
  {
   "cell_type": "markdown",
   "metadata": {},
   "source": [
    "#### Noising"
   ]
  },
  {
   "cell_type": "code",
   "execution_count": null,
   "metadata": {},
   "outputs": [],
   "source": [
    "fig, ax = plot2d(mix2d, t_sde, x_sde)"
   ]
  },
  {
   "cell_type": "markdown",
   "metadata": {},
   "source": [
    "#### Pseudo-noising (with the ODE)"
   ]
  },
  {
   "cell_type": "code",
   "execution_count": null,
   "metadata": {},
   "outputs": [],
   "source": [
    "fig, ax = plot2d(mix2d, t_ode, x_ode)"
   ]
  },
  {
   "cell_type": "markdown",
   "metadata": {},
   "source": [
    "#### Comparing the SDE and the ODE"
   ]
  },
  {
   "cell_type": "code",
   "execution_count": null,
   "metadata": {},
   "outputs": [],
   "source": [
    "def nonuniform_time(tf, nt):\n",
    "    return tf * np.array([0.0, *(1.0 / (2**k) for k in reversed(range(nt)))])\n",
    "\n",
    "\n",
    "def simulate_ve_sde(\n",
    "    mix: VarianceExploding, nt, tf, num_sample=1000, seed=DEFAULT_SEED\n",
    "):\n",
    "    # with VE, mix.f == 0, and the simulation is exact :)\n",
    "    t = nonuniform_time(tf, nt)\n",
    "    dt = np.diff(t)\n",
    "    x_init = mix.sample(num_sample, seed=seed)\n",
    "    x = x_init[None, :, :].repeat(nt + 1, 0)\n",
    "\n",
    "    rng = np.random.default_rng(seed)\n",
    "    dw = rng.normal(size=(nt, num_sample, mix.dim))\n",
    "\n",
    "    for i, (ti, dti, dwi) in enumerate(zip(t, dt, dw)):\n",
    "        dg_sq = mix.added_noise_sq(ti + dti) - mix.added_noise_sq(ti)\n",
    "        x[i + 1] = x[i] + np.sqrt(dg_sq) * dwi\n",
    "\n",
    "    return t, x\n",
    "\n",
    "\n",
    "def simulate_reverse_ve_ode(\n",
    "    mix: VarianceExploding, nt, tf, num_sample=1000, seed=DEFAULT_SEED\n",
    "):\n",
    "    def flat_ode(t, x_flat):\n",
    "        x = x_flat.reshape(-1, mix.dim)\n",
    "        return -mix.ode(tf - t, x).flatten()\n",
    "\n",
    "    t = tf - nonuniform_time(tf, nt)[::-1]\n",
    "\n",
    "    prior = MultivariateNormal(mix.dim, cov=mix.added_noise_sq(tf) * np.eye(mix.dim))\n",
    "    x_init = prior.sample(num_sample, seed=seed)\n",
    "\n",
    "    solve_params = dict(rtol=1e-10, atol=1e-10, t_eval=t)\n",
    "    sol = solve_ivp(flat_ode, (0.0, tf), x_init.flatten(), **solve_params)\n",
    "    x = sol.y.T.reshape(nt + 1, num_sample, mix.dim)\n",
    "    return tf - sol.t, x"
   ]
  },
  {
   "cell_type": "code",
   "execution_count": null,
   "metadata": {},
   "outputs": [],
   "source": [
    "rvs = cube_vertices(2)\n",
    "mix2d = VarianceExploding(rvs)\n",
    "nt, tf = 5, 2.0\n",
    "t_sde, x_sde = simulate_ve_sde(mix2d, nt, tf)\n",
    "t_ode, x_ode = simulate_reverse_ve_ode(mix2d, nt, tf)\n",
    "t_ode, x_ode = t_ode[::-1], x_ode[::-1]"
   ]
  },
  {
   "cell_type": "code",
   "execution_count": null,
   "metadata": {},
   "outputs": [],
   "source": [
    "def plot_x(ax, x_samples, cols):\n",
    "    ax.scatter(*x_samples.T, c=cols, s=2)\n",
    "\n",
    "    x_max = np.abs(x_samples).max()\n",
    "    ax.set_xlim(-x_max - 0.05 * x_max, x_max + 0.05 * x_max)\n",
    "    ax.set_ylim(-x_max - 0.05 * x_max, x_max + 0.05 * x_max)\n",
    "\n",
    "    x_ticks = dict(bottom=False, top=False, labelbottom=False)\n",
    "    y_ticks = dict(left=False, right=False, labelleft=False)\n",
    "    ax.tick_params(**x_ticks, **y_ticks)\n",
    "    ax.set_aspect(\"equal\")\n",
    "\n",
    "    return fig, ax\n",
    "\n",
    "c0 = mpl.colormaps[\"tab20c\"](0)\n",
    "c1 = mpl.colormaps[\"tab20c\"](8)\n",
    "c2 = mpl.colormaps[\"tab20c\"](5)\n",
    "c3 = mpl.colormaps[\"tab20c\"](16)\n",
    "c = np.array([c0, c1, c2, c3])\n",
    "\n",
    "means = np.array([rv.mean.mean for rv in rvs])"
   ]
  },
  {
   "cell_type": "code",
   "execution_count": null,
   "metadata": {},
   "outputs": [],
   "source": [
    "c_sde = c[np.square(x_sde[0, :, None, :] - means).sum(-1).argmin(-1)]\n",
    "\n",
    "fig, ax = plt.subplots(1, len(t_sde), figsize=(3 * 6, 3))\n",
    "\n",
    "for i, xi in enumerate(x_sde):\n",
    "    plot_x(ax[i], xi, c_sde)\n",
    "\n",
    "fig.tight_layout(pad=0.5)\n",
    "fig.savefig(\"img/song_sde.pdf\")"
   ]
  },
  {
   "cell_type": "code",
   "execution_count": null,
   "metadata": {},
   "outputs": [],
   "source": [
    "c_ode = c[np.square(x_ode[0, :, None, :] - means).sum(-1).argmin(-1)]\n",
    "\n",
    "fig, ax = plt.subplots(1, len(t_ode), figsize=(3 * 6, 3))\n",
    "\n",
    "for i, xi in enumerate(x_ode):\n",
    "    plot_x(ax[i], xi, c_ode)\n",
    "\n",
    "fig.tight_layout(pad=0.5)\n",
    "fig.savefig(\"img/song_ode.pdf\")"
   ]
  },
  {
   "cell_type": "markdown",
   "metadata": {},
   "source": [
    "### Variance-preserving"
   ]
  },
  {
   "cell_type": "code",
   "execution_count": null,
   "metadata": {},
   "outputs": [],
   "source": [
    "mix2d = VariancePreserving(cube_vertices(2))\n",
    "prior2d = MultivariateNormal(mix2d.dim)\n",
    "t_sde, x_sde = simulate_sde(mix2d)\n",
    "t_ode, x_ode = simulate_ode(mix2d)"
   ]
  },
  {
   "cell_type": "code",
   "execution_count": null,
   "metadata": {},
   "outputs": [],
   "source": [
    "fig, ax = plot2d(mix2d, t_sde, x_sde)"
   ]
  },
  {
   "cell_type": "code",
   "execution_count": null,
   "metadata": {},
   "outputs": [],
   "source": [
    "fig, ax = plot2d(mix2d, t_ode, x_ode)"
   ]
  },
  {
   "cell_type": "markdown",
   "metadata": {},
   "source": [
    "### Compare clustering (VP-case)"
   ]
  },
  {
   "cell_type": "code",
   "execution_count": null,
   "metadata": {},
   "outputs": [],
   "source": [
    "def plot2d_clusters(t, x, show_every=50, side_len=1.0):\n",
    "    num_plots = (len(t) - 1) // show_every + 1\n",
    "    fig, ax = plt.subplots(1, num_plots, figsize=(15, 3))\n",
    "\n",
    "    right = x[:, 0, 0] > 0.5 * side_len\n",
    "    upper = x[:, 0, 1] > 0.5 * side_len\n",
    "    cmap = mpl.color_sequences[\"tab10\"]\n",
    "    colors = np.empty((len(x), 3))\n",
    "    colors[right & upper] = cmap[0]\n",
    "    colors[right & ~upper] = cmap[1]\n",
    "    colors[~right & upper] = cmap[2]\n",
    "    colors[~right & ~upper] = cmap[3]\n",
    "\n",
    "    for i in range(num_plots):\n",
    "        si = i * show_every\n",
    "        xi = x[:, si, :]\n",
    "        ax[i].scatter(*xi.T, s=1, c=colors)\n",
    "\n",
    "    return fig, ax"
   ]
  },
  {
   "cell_type": "code",
   "execution_count": null,
   "metadata": {},
   "outputs": [],
   "source": [
    "fig, ax = plot2d_clusters(t_sde, x_sde)"
   ]
  },
  {
   "cell_type": "code",
   "execution_count": null,
   "metadata": {},
   "outputs": [],
   "source": [
    "fig, ax = plot2d_clusters(t_ode, x_ode)"
   ]
  },
  {
   "cell_type": "markdown",
   "metadata": {},
   "source": [
    "## Cube (3D)"
   ]
  },
  {
   "cell_type": "code",
   "execution_count": null,
   "metadata": {},
   "outputs": [],
   "source": [
    "def plot3d(mix, t, x, show_indices=None):\n",
    "    fig = plt.figure(figsize=(15, 3))\n",
    "\n",
    "    if show_indices is None:\n",
    "        show_indices = range(0, len(t) + 1, len(t) // 5)\n",
    "    for i, si in enumerate(show_indices):\n",
    "        ax = fig.add_subplot(1, len(show_indices), i + 1, projection=\"3d\")\n",
    "        ti = t[si]\n",
    "        xi = x[:, si, :]\n",
    "\n",
    "        div_score = mix.score_with_div(ti, xi)[1][..., 0]\n",
    "        norm_col = mpl.colors.Normalize(div_score.min(), div_score.max())\n",
    "        colors = mpl.colormaps[\"plasma\"](norm_col(div_score))\n",
    "\n",
    "        ax.scatter(*xi.T, s=1, c=colors, alpha=0.5)\n",
    "        ax.set_title(f\"t = {ti:.2f}\")\n",
    "    \n",
    "    return fig"
   ]
  },
  {
   "cell_type": "markdown",
   "metadata": {},
   "source": [
    "### Variance exploding"
   ]
  },
  {
   "cell_type": "code",
   "execution_count": null,
   "metadata": {},
   "outputs": [],
   "source": [
    "mix3d = VarianceExploding(cube_vertices(3))\n",
    "tf = 40.0\n",
    "show_indices = [0, 2, 5, 10, -1]\n",
    "t_sde, x_sde = simulate_sde(mix3d, tf=tf)\n",
    "t_ode, x_ode = simulate_ode(mix3d, tf=tf)"
   ]
  },
  {
   "cell_type": "code",
   "execution_count": null,
   "metadata": {},
   "outputs": [],
   "source": [
    "plot3d(mix3d, t_sde, x_sde, show_indices=show_indices);"
   ]
  },
  {
   "cell_type": "code",
   "execution_count": null,
   "metadata": {},
   "outputs": [],
   "source": [
    "plot3d(mix3d, t_ode, x_ode, show_indices=show_indices);"
   ]
  },
  {
   "cell_type": "markdown",
   "metadata": {},
   "source": [
    "### Variance preserving"
   ]
  },
  {
   "cell_type": "code",
   "execution_count": null,
   "metadata": {},
   "outputs": [],
   "source": [
    "mix3d = VariancePreserving(cube_vertices(3))\n",
    "show_indices = [0, 2, 5, 10, -1]\n",
    "t_sde, x_sde = simulate_sde(mix3d)\n",
    "t_ode, x_ode = simulate_ode(mix3d)"
   ]
  },
  {
   "cell_type": "code",
   "execution_count": null,
   "metadata": {},
   "outputs": [],
   "source": [
    "plot3d(mix3d, t_sde, x_sde);"
   ]
  },
  {
   "cell_type": "code",
   "execution_count": null,
   "metadata": {},
   "outputs": [],
   "source": [
    "plot3d(mix3d, t_ode, x_ode);"
   ]
  }
 ],
 "metadata": {
  "kernelspec": {
   "display_name": ".venv",
   "language": "python",
   "name": "python3"
  },
  "language_info": {
   "codemirror_mode": {
    "name": "ipython",
    "version": 3
   },
   "file_extension": ".py",
   "mimetype": "text/x-python",
   "name": "python",
   "nbconvert_exporter": "python",
   "pygments_lexer": "ipython3",
   "version": "3.10.12"
  }
 },
 "nbformat": 4,
 "nbformat_minor": 2
}
