{
 "cells": [
  {
   "cell_type": "code",
   "execution_count": null,
   "metadata": {},
   "outputs": [],
   "source": [
    "%load_ext autoreload\n",
    "%autoreload 2"
   ]
  },
  {
   "cell_type": "code",
   "execution_count": null,
   "metadata": {},
   "outputs": [],
   "source": [
    "import numpy as np\n",
    "import matplotlib.pyplot as plt\n",
    "\n",
    "DEFAULT_SEED = 42\n",
    "\n",
    "from gaussian import MultivariateNormal, VarianceExploding, VariancePreserving, SubVariancePreserving\n",
    "from numerical import EulerSolver, BroydenSolver\n",
    "from utils import hexa_vertices, plot_simulation, solve_numerical_scheme, solve_flow"
   ]
  },
  {
   "cell_type": "code",
   "execution_count": null,
   "metadata": {},
   "outputs": [],
   "source": [
    "norms = hexa_vertices(num_sides=6)"
   ]
  },
  {
   "cell_type": "markdown",
   "metadata": {},
   "source": [
    "### Explicit Euler plots"
   ]
  },
  {
   "cell_type": "code",
   "execution_count": null,
   "metadata": {},
   "outputs": [],
   "source": [
    "mix = VarianceExploding(norms)\n",
    "\n",
    "for linear_ts in [False, True]:\n",
    "    t, x, _ = solve_numerical_scheme(solver=EulerSolver, mix=mix, n_samples=5000, t_min=1e-6, tf=2.0, n_timesteps=500, linear_ts=linear_ts)\n",
    "    plot_simulation(mix, t, x, show_every=120)"
   ]
  },
  {
   "cell_type": "code",
   "execution_count": null,
   "metadata": {},
   "outputs": [],
   "source": [
    "mix = VariancePreserving(norms)\n",
    "\n",
    "for linear_ts in [False, True]:\n",
    "    t, x, _ = solve_numerical_scheme(solver=EulerSolver, mix=mix, n_samples=5000, t_min=1e-6, tf=1.0, n_timesteps=500, linear_ts=linear_ts)\n",
    "    plot_simulation(mix, t, x, show_every=120)"
   ]
  },
  {
   "cell_type": "code",
   "execution_count": null,
   "metadata": {},
   "outputs": [],
   "source": [
    "mix = SubVariancePreserving(norms)\n",
    "\n",
    "for linear_ts in [False, True]:\n",
    "    t, x, _ = solve_numerical_scheme(solver=EulerSolver, mix=mix, n_samples=5000, t_min=1e-6, tf=1.0, n_timesteps=500, linear_ts=linear_ts)\n",
    "    plot_simulation(mix, t, x, show_every=120)"
   ]
  },
  {
   "cell_type": "markdown",
   "metadata": {},
   "source": [
    "### Implicit Euler (using Broyden method) plots"
   ]
  },
  {
   "cell_type": "code",
   "execution_count": null,
   "metadata": {},
   "outputs": [],
   "source": [
    "mix = VarianceExploding(norms)\n",
    "\n",
    "for linear_ts in [False, True]:\n",
    "    t, x, _ = solve_numerical_scheme(solver=BroydenSolver, mix=mix, n_samples=5000, t_min=1e-6, tf=2.0, n_timesteps=500, linear_ts=linear_ts)\n",
    "    plot_simulation(mix, t, x, show_every=120)"
   ]
  },
  {
   "cell_type": "code",
   "execution_count": null,
   "metadata": {},
   "outputs": [],
   "source": [
    "mix = VariancePreserving(norms)\n",
    "\n",
    "for linear_ts in [False, True]:\n",
    "    t, x, _ = solve_numerical_scheme(solver=BroydenSolver, mix=mix, n_samples=5000, t_min=1e-6, tf=1.0, n_timesteps=500, linear_ts=linear_ts)\n",
    "    plot_simulation(mix, t, x, show_every=120)"
   ]
  },
  {
   "cell_type": "code",
   "execution_count": null,
   "metadata": {},
   "outputs": [],
   "source": [
    "mix = SubVariancePreserving(norms)\n",
    "\n",
    "for linear_ts in [False, True]:\n",
    "    t, x, _ = solve_numerical_scheme(solver=BroydenSolver, mix=mix, n_samples=5000, t_min=1e-6, tf=1.0, n_timesteps=500, linear_ts=linear_ts)\n",
    "    plot_simulation(mix, t, x, show_every=120)"
   ]
  },
  {
   "cell_type": "markdown",
   "metadata": {},
   "source": [
    "### Negative log-likelihood per formulation (VE, VP, sub-VP)"
   ]
  },
  {
   "cell_type": "code",
   "execution_count": null,
   "metadata": {},
   "outputs": [],
   "source": [
    "tf = 2.0\n",
    "mix = VarianceExploding(norms)\n",
    "prior = MultivariateNormal(mix.dim, cov=mix.added_noise_sq(tf))\n",
    "x, nll = solve_flow(mix, prior, tf=tf)\n",
    "\n",
    "plt.scatter(*x.T, s=1)\n",
    "x1_cont = np.linspace(x[:, 0].min() - 1.0, x[:, 0].max() + 1.0, 200)\n",
    "x2_cont = np.linspace(x[:, 1].min() - 1.0, x[:, 1].max() + 1.0, 200)\n",
    "x_cont = np.stack(np.meshgrid(x1_cont, x2_cont), -1)\n",
    "plt.contour(x_cont[:, :, 0], x_cont[:, :, 1], prior.density(x_cont), levels=10, alpha=0.5, cmap=\"plasma\")\n",
    "plt.title(f\"NLL: {nll:.2f}\")"
   ]
  },
  {
   "cell_type": "code",
   "execution_count": null,
   "metadata": {},
   "outputs": [],
   "source": [
    "mix = VariancePreserving(norms)\n",
    "prior = MultivariateNormal(mix.dim)\n",
    "x, nll = solve_flow(mix, prior)\n",
    "\n",
    "plt.scatter(*x.T, s=1)\n",
    "x1_cont = np.linspace(x[:, 0].min() - 1.0, x[:, 0].max() + 1.0, 200)\n",
    "x2_cont = np.linspace(x[:, 1].min() - 1.0, x[:, 1].max() + 1.0, 200)\n",
    "x_cont = np.stack(np.meshgrid(x1_cont, x2_cont), -1)\n",
    "plt.contour(x_cont[:, :, 0], x_cont[:, :, 1], prior.density(x_cont), levels=10, alpha=0.5, cmap=\"plasma\")\n",
    "plt.title(f\"NLL: {nll:.2f}\")"
   ]
  },
  {
   "cell_type": "code",
   "execution_count": null,
   "metadata": {},
   "outputs": [],
   "source": [
    "mix = SubVariancePreserving(norms)\n",
    "prior = MultivariateNormal(mix.dim)\n",
    "x, nll = solve_flow(mix, prior)\n",
    "\n",
    "plt.scatter(*x.T, s=1)\n",
    "x1_cont = np.linspace(x[:, 0].min() - 1.0, x[:, 0].max() + 1.0, 200)\n",
    "x2_cont = np.linspace(x[:, 1].min() - 1.0, x[:, 1].max() + 1.0, 200)\n",
    "x_cont = np.stack(np.meshgrid(x1_cont, x2_cont), -1)\n",
    "plt.contour(x_cont[:, :, 0], x_cont[:, :, 1], prior.density(x_cont), levels=10, alpha=0.5, cmap=\"plasma\")\n",
    "plt.title(f\"NLL: {nll:.2f}\")"
   ]
  },
  {
   "cell_type": "code",
   "execution_count": null,
   "metadata": {},
   "outputs": [],
   "source": []
  }
 ],
 "metadata": {
  "kernelspec": {
   "display_name": "Python 3",
   "language": "python",
   "name": "python3"
  },
  "language_info": {
   "codemirror_mode": {
    "name": "ipython",
    "version": 3
   },
   "file_extension": ".py",
   "mimetype": "text/x-python",
   "name": "python",
   "nbconvert_exporter": "python",
   "pygments_lexer": "ipython3",
   "version": "3.10.12"
  }
 },
 "nbformat": 4,
 "nbformat_minor": 2
}
